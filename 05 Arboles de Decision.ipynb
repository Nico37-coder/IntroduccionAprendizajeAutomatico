{
 "cells": [
  {
   "cell_type": "markdown",
   "metadata": {},
   "source": [
    "# 5. Árboles de Decisión\n",
    "\n",
    "Veremos árboles de decisión y los conceptos subyacentes asociados.\n",
    "\n",
    "Haremos ejemplos de juguete y con datos generados artificialmente."
   ]
  },
  {
   "cell_type": "code",
   "execution_count": 1,
   "metadata": {},
   "outputs": [],
   "source": [
    "import numpy as np\n",
    "import matplotlib.pyplot as plt"
   ]
  },
  {
   "cell_type": "markdown",
   "metadata": {},
   "source": [
    "## Entropía y Ganancia de Información"
   ]
  },
  {
   "cell_type": "markdown",
   "metadata": {},
   "source": [
    "### Entropía\n",
    "\n",
    "Definamos entropía para una distribución probabilista:\n",
    "\n",
    "$$H(Y) = - \\sum_{i=1}^k P(Y = y_i) log_2 P(Y = y_i)$$"
   ]
  },
  {
   "cell_type": "code",
   "execution_count": 2,
   "metadata": {},
   "outputs": [],
   "source": [
    "def entropy(probs):\n",
    "    return - np.sum(probs * np.log2(probs))"
   ]
  },
  {
   "cell_type": "markdown",
   "metadata": {},
   "source": [
    "Veamos posibles entropías para el problema de tirar una moneda adulterada:"
   ]
  },
  {
   "cell_type": "code",
   "execution_count": 3,
   "metadata": {},
   "outputs": [
    {
     "data": {
      "text/plain": [
       "1.0"
      ]
     },
     "execution_count": 3,
     "metadata": {},
     "output_type": "execute_result"
    }
   ],
   "source": [
    "entropy(np.array([0.5, 0.5]))#entropia maxima (peor situación cuando la probabilidad son uniformes)"
   ]
  },
  {
   "cell_type": "code",
   "execution_count": 4,
   "metadata": {},
   "outputs": [
    {
     "data": {
      "text/plain": [
       "0.08079313589591118"
      ]
     },
     "execution_count": 4,
     "metadata": {},
     "output_type": "execute_result"
    }
   ],
   "source": [
    "entropy(np.array([0.01, 0.99]))#disminuye la entropía ya que es una distribución casi deterministica"
   ]
  },
  {
   "cell_type": "code",
   "execution_count": 5,
   "metadata": {},
   "outputs": [
    {
     "data": {
<<<<<<< HEAD
      "image/png": "iVBORw0KGgoAAAANSUhEUgAAAYIAAAEHCAYAAACjh0HiAAAAOXRFWHRTb2Z0d2FyZQBNYXRwbG90bGliIHZlcnNpb24zLjUuMCwgaHR0cHM6Ly9tYXRwbG90bGliLm9yZy8/fFQqAAAACXBIWXMAAAsTAAALEwEAmpwYAAAtD0lEQVR4nO3deXRV9b3//+c7M5CQQBISSIAwJIzKPIiAKKWCVnFq61wVtV6l2tXeX+2vt7W11nt77XzrgFqHOlfFKipCtSpzZJIhzEkgEBIyAUnIQJJz3t8/El0RA5xA9tk557wfa2WZc84Oee2A55X92Xt/PqKqGGOMCV1hbgcwxhjjLisCY4wJcVYExhgT4qwIjDEmxFkRGGNMiItwO0B7JSUlaUZGhtsxjDEmoGzYsKFcVZPbei3giiAjI4P169e7HcMYYwKKiBSc7DUbGjLGmBBnRWCMMSHOisAYY0KcFYExxoQ4KwJjjAlxjhWBiDwrIqUiknOS10VE/k9EckVki4iMdSqLMcaYk3PyiOB5YPYpXp8DZLZ83Ak84WAWY4wxJ+HYfQSqulxEMk6xyVzgBW2eBztbRBJEpLeqFjuVyZiz4fEqR2obqDjWQMWx45TXNFBZ1wgnmcq9W3QEibHRJHaLIik2mp7dooiKsNFY0/m4eUNZGnCg1ePClue+VgQicifNRw3069fPL+FMaFJViirr2X2oml0l1V/+91BlPYdrG072nu+z7jERpHSPISsljqyUOIakxpKVEkf/xG6Eh0nH7IQx7eRmEbT1r77N/81U9SngKYDx48fbSjqmw9Q2NLFu3xFW55Wzft8Rdh+qpvp405evp3aPITMlltF9E0iMjSYpNorEbtEkxkaRFBtF9y6RhMnX/ymrwrHjTc1HDscaqKg5/uWRRFFlPduKKlmcU/xlsURHhDG4Vyxj+iUwZVASkwcm0rNblL9+DCbEuVkEhUDfVo/TgSKXspgQcbzJw6b9R1mdV8HqvHI2HThKo0eJDBdGpSdw1dg0slLjGJISR2ZKHPFdIs/4eyXHRTMgqdtJX69r8JBbeqz5yKOkmh3FVfxz40Feyt4PwPDe3ZkyKJEpgxOZkNGTuJgzz2LMqbhZBIuA+SLyGjAJqLTzA8YJTR4vq/IqeHdzEUu3HaK6vokwgXPS4pk3dSBTBjW/0XaJCvdrri5R4ZyTHs856fFfPtfo8bKlsJI1eeWszqvghewC/rZyL1HhYVwwJJnLRvXhG8N60TUq4KYJM52YOLVmsYi8CswAkoAS4JdAJICqLhARAR6l+cqiWuBWVT3tbHLjx49Xm3TOnI7Xq6wvOMKizQf5YOshKmoaiIuO4JsjUrl4RAqTBiae1W/7/lLf6GHj/iP8e0cp720poqTqOF0iw/nG8BQuH9WH6VlJREf4t8BMYBKRDao6vs3XAm3xeisCcyoVx47zymf7eWXtfoor64mJDGPmsBQuO7cPM4YkExMZuG+aHq+ybt9hFm0u4oOtxRypbSQuJoKrxqRxy/kDTjkMZYwVgQl624uqeG7VXt7ZXERDk5dpmUlcPTadbwxPITY6+IZRGj1eVuaW8/bnB1m8tZgmr3LhkF7cen4GUwcnIW2cwDahzYrABCWPV/loRwnPrdpLdv5hukSGc9XYNG49P4PBveLcjuc3pVX1vPTZfl75rIDyYw1kpcRyy5QBXDkmze/nPUznZUVggorXqyzOKeaP/9pNfnkNaQlduPm8/lw7oR/xXTv/uL9Tjjd5eHdzMc+t2su2oip6dovi7hmDuHFy/4AeEjMdw4rABAVV5dPdZfx+6S62FVWRlRLLfTOzuHhEChHhdsfuF1SVtXsP8+gnuazYU07v+Bjum5nJNePS7ecUwqwITMBbt+8wjyzZybp9R+jXsys/mpXFZaP62N24p7E6r5xHluxi04GjDEjqxo9mZXHpOb0Js59byLEiMAErr+wYD723nU93ldErLpp7Z2bynfF9bc6edlBVPtpRyu+X7mJXSTXDe3fnF98aznmDEt2OZvzIisAEnPpGD49/ksuCZfnERIZxz4WDufm8DDv5eRY8XuW9LUX8/l+7OHC4jqvGpPGzS4eRFBvtdjTjB6cqguC7rs4EvGW7y3jgnRwKKmrtzaoDhYcJc0encfGIVB77JJcFy/L4985SfjpnKN8d39eGi0KYHRGYTqOkqp6H3tvOe1uKGZjcjd/MHcmUwUluxwpauaXV/PztHLLzDzO2XwIPX3kOw3p3dzuWcYgNDZlOTVV5+bP9/O8HOznu8TL/wsF8/4KBNnWCH6gqb208yMOLd1BZ18jt0wbwo1lZ9rMPQjY0ZDqt8mPHuf/NLfx7ZylTByfxmytGkmFTJfiNiHD1uHRmDuvFbz/YyZPL8lm2q4y/XjeGzJTQuSkv1NmlF8Y1n+4qZfafV7Ait5xfXjacF+dNtBJwSULXKH579bk8e8t4yqqP862/ruTFNfsItBEDc2asCIzf1Td6+NWibdzy3DoSu0WxaP753Hr+AJsfpxO4aGgKS344nfMGJfKLd7Yx7+/rKT923O1YxmFWBMavdh6qYu6jq3h+9T5uPT+Dd+afz9BUO0HZmSTHRfPcLRN48PIRrMwtZ/afl/PJrlK3YxkHWREYv3lzQyGXP7qKipoGnr91Ar+8bITNgdNJiQjfm5LBu/OnkhQbza3PreO3H+zE47WhomBkRWAc1+Tx8uC72/jPNzYzvn8PlvxwGjOG9HI7lvHBkNQ43r7nfK6f1I8Fy/KY9/d1VNY1uh3LdDArAuOowzUN3PzsWp5btY/bzh/AC7dNtJvDAkxMZDj/feU5PHzlSFbllnPFY6vILa12O5bpQFYExjE7iqu4/NGVrC84wh++PYoHLhtus18GsBsm9eeVOyZTXd/IFY+t5qPtJW5HMh3E/q80jnh/SzFXPb6aRo+X179/HlePS3c7kukAEzJ6smj+VAYkdeOOF9fz13/vwWvnDQKeFYHpUKrKnz7czT2vbGRY7zjenT+V0X0T3I5lOlCfhC68cdd5XDE6jT98uJsfvPo59Y0et2OZs2B3FpsO4/EqP387h1fX7ueacek8fOVIm6ogSMVEhvPH74xiWO84/nvxTipqjvPUzePpHhO6K8QFMjsiMB2ivtHD3S9v4NW1+7l7xiB+d825VgJBTkS4c/og/nLtaNbvO8J3n8ymtLre7VjmDFgRmLNWVd/I955dy9JtJTzwreH8ZPZQu0s4hMwdncYzt0ygoKKGa55YQ0FFjduRTDtZEZizUlpVz3efzGZDwRH+cu1obps6wO1IxgUXZCV/eUXR1U+sJudgpduRTDtYEZgztq+8hqsXrKagooZnbpnA3NFpbkcyLhrdN4E37ppCdEQ41z6VzerccrcjGR9ZEZgzsrukmmsWrOZYfROv3DGZC7KS3Y5kOoHBvWJ58z/Oo09CDLc8t44P7V6DgGBFYNott7Sa65/OJkyEN+6aYpeHmq/oHd+F179/HsN6x3H3yxv4eKeVQWdnRWDaJa/sGNc9/RkgvHLHZAb3inU7kumEErpG8cJtkxiSGsddL25k2e4ytyOZU7AiMD7bW17DdU9lo6q8esckKwFzSvFdI3lpXvO/kzteWM/KPXbOoLOyIjA+2V9Ry/VPZ9PkVV6+fbItY2h8ktA1ipdvn8TApG7M+/s6O4HcSVkRmNM6cLiW657Opq7Rw8u3Nx/uG+OrHt2ay6B/Ylfm/X092fkVbkcyJ7AiMKd08Ggd1z2dzbHjTbw0bxLDettqYqb9EmOjefn2yaT16MJtz69j7d7DbkcyrVgRmJM6UtPATc98RmVdIy/Nm8TItHi3I5kAlhwXzSt3TCI1PoZ5z69jR3GV25FMCysC06b6Rg/z/r6OwiN1PHvLBM5JtxIwZ69XXAwvzZtEt+gIbnluLQeP1rkdyWBFYNrg8So/ePVzPj9wlP+7djQTMnq6HckEkT4JXXj+tgnUHvdwy7Nrqay1pS/dZkVgvkJV+eWiHD7cXsKvLhvB7JG93Y5kgtDQ1O48efM49lXUcMeL6209A5dZEZivePzTPF7K3s/3LxjI96ZkuB3HBLEpg5L4w3dGs3bvYX78+mZb6cxFjhaBiMwWkV0ikisiP23j9XgReVdENovINhG51ck85tQWbijkd0t3ccXoPtx/8VC345gQcPmoPvzXJcN4f2sxv3l/h9txQpZjK5SJSDjwGDALKATWicgiVd3earN7gO2qepmIJAO7RORlVW1wKpdp2/LdZdy/cAvnD07kkWtGERZm6wkY/7h92gCKKut4dtVe+iTEcPu0gW5HCjlOLlU5EchV1XwAEXkNmAu0LgIF4qR5FZNY4DDQ5GAm04Zdh6r5j5c2MLhXLE/cOI6oCBsxNP4jIvzi0uGUVh3nN+/vIL1HFzs35WdO/h+fBhxo9biw5bnWHgWGAUXAVuA+VfWe+AeJyJ0isl5E1peV2eRVHelobQN3vLCertERPH/rRFtz1rgiLEz4w3dGMaZfAj96fTO7DlW7HSmkOFkEbY0tnHg26GJgE9AHGA08KiJfu3VVVZ9S1fGqOj452ea97yhfXCZaXFnHghvHkhof43YkE8JiIsNZcOM4ukVHcMcL6zlaayPE/uJkERQCfVs9Tqf5N//WbgXe0ma5wF7AzlL6ySNLd7JiTzm/njuScf3tXgHjvpTuMSy4cRzFlXX84NXP8diVRH7hZBGsAzJFZICIRAHXAotO2GY/MBNARFKAIUC+g5lMi0Wbi3hyWT43Tu7HdRP7uR3HmC+N69+Dh+aOZMWech5ZutPtOCHBsZPFqtokIvOBpUA48KyqbhORu1peXwA8BDwvIltpHkq6X1VtnlqHbSuq5CdvbmZCRg8e+NYIt+MY8zXXTuzHtqIqnlyWz4g+8Vw+qo/bkYKak1cNoaqLgcUnPLeg1edFwDedzGC+6nBNA3e+sIEeXaN4/Aa7Qsh0Xr/41nB2HarmJ29uZlByN0b0sfmunGLvAiGk0ePlnpc3UnbsOE/eNI7kuGi3IxlzUlERYTx2w1h6dI3izhc2UHHsuNuRgpYVQQh5ZMlO1uRX8D9XnsO56QluxzHmtJLjonnypnGUHTvOva/ZyWOnWBGEiE92lvL0ir3cNLk/V49LdzuOMT47Nz2B38wdyarcChYsy3M7TlCyIggBJVX1/PiNzQxNjeO/Lh3mdhxj2u3b49O5fFQf/vjhbtbvs9XNOpoVQZDzeJUfvraJugYPj14/lpjIcLcjGdNuIsLDV44kLaEL9722ydYw6GBWBEHuiU9zWZNfwYNzRzC4V6zbcYw5Y3Exkfz1ujGUVNVz/8ItqNr5go5iRRDE1u87zJ8+2sPc0X34tp0XMEFgVN8E7p89lCXbDvHSZ/vdjhM0rAiC1NHaBu57bRPpPbrwmytG0jzBqzGBb97UAcwYksxD721nR3GV23GCghVBEFJV7l+4hdLqev563RjibEZRE0TCwoTff3sU8V0i+cGrn1PbYDPXny0rgiD0UnYBS7eV8JOLh9r9AiYoJcVG8+fvjiav7BgPLtp++i8wp2RFEGRyS6t56P0dzBiSzLypA9yOY4xjzh+cxD0zBvOP9Qf4YGux23ECmhVBEPF4lf98YwvdosL5nS03aULAfd/I5Jy0eH7+do5NQXEWrAiCyNMr8tl04CgPzh1p8wiZkBAZHsbvvz2K6vomHli0ze04AcuKIEjkllbzxw93M3tEKpeda+u9mtAxJDWO+76RyftbillsQ0RnxIogCDR5vPy4ZUjoIbtU1ISg708fyLnp8fzChojOiBVBEHh6xV42HzjKr21IyISoiNZDRO/YEFF7WREEuD0l1fzpw93MGZnKt2xIyISwrJSWIaKtxby/xYaI2sOKIIA1DwltJjYmwoaEjKF5iGhUejy/eCeHchsi8pkVQQB7cnk+WworeWjuSJJibUjImC+GiI7VN/HAOzluxwkYVgQBandJNX/5aA+XntObS21IyJgvZabE8cNZmSzeeoj3thS5HScgWBEEIK9X+f/f2kpsTAS/njvC7TjGdDp3TmseIvrVom1U1tnaBadjRRCA3txYyIaCI/zskmEk2pCQMV8TER7Gw1eew+GaBv7wr11ux+n0rAgCzJGaBv5n8Q4mZvTk6rFpbscxptMamRbPzedl8GJ2AVsLK92O06lZEQSYR5bupKq+ya4SMsYHP/pmFkmx0fz87a14vLai2clYEQSQjfuP8OraA8ybOoAhqXFuxzGm0+seE8nPLx3G5sJKXl1rK5qdjBVBgGjyePn5P3NI7R7DfTMz3Y5jTMC4fFQfpgxK5JElO+3egpOwIggQL2YXsL24il9eNpxu0RFuxzEmYIgIv547krpGD/+zeKfbcTolK4IAUFpVzx/+tZsLspKZPTLV7TjGBJzBvWK5c/pAFm4s5LP8CrfjdDpWBAHgN+/voMHj5cHLR9gJYmPO0PwLM0nv0YVfvJNDo8frdpxOxYqgk1u5p5xFm4u4e8YgMpK6uR3HmIDVJSqcBy8fwe6SYzy7cq/bcToVn4pARMKdDmK+rqHJywOLcuif2JW7LhjkdhxjAt7MYSnMGp7Cnz/aQ3FlndtxOg1fjwhyReR3IjLc0TTmK17+rID8shp+edlwYiKti43pCA98azgeVX6/dLfbUToNX4vgXGA38DcRyRaRO0Wku4O5Ql5lbSN/+fcepg5O4sIhvdyOY0zQ6NuzK7edP4C3Pi8k56DdcQw+FoGqVqvq06o6BfgJ8EugWET+LiKDHU0Yoh77NJfKukZ+dskwO0FsTAe7+8JBJHSJ5OH3d6Bqdxz7fI5ARC4XkX8CfwH+AAwE3gUWO5gvJB04XMvzq/Zxzdh0hvexAy9jOlr3mEh++I0s1uRX8PHOUrfjuM7XoaE9wFzgd6o6RlX/qKolqvomsMS5eKHpf5fsJDxM+PE3h7gdxZigdf2kfgxM6sZ/L95BU4hfTurzOQJVnaeqq098QVXv7eBMIW3j/iO8t6WYO6YPJDU+xu04xgStyPAwfjpnKHllNby67oDbcVzlaxH0EpF3RaRcREpF5B0RGXi6LxKR2SKyS0RyReSnJ9lmhohsEpFtIrKsXemDjKry8Ps7SI6L5vvTT/vjNcacpVnDU5g0oCd//nA31fWhu4CNr0XwCvA6kAr0Ad4AXj3VF7Tce/AYMAcYDlx34uWnIpIAPA5crqojgG+3J3yw+SDnEBsKjvDjWVk2n5AxfiAi/Nelw6ioaeCJT/PcjuMaX4tAVPVFVW1q+XgJON2p9olArqrmq2oD8BrN5xlaux54S1X3A6hqyJ61aWjy8tsPdjIkJY5vj+/rdhxjQsa56QlcMboPz6zcy8GjoXmTma9F8ImI/FREMkSkv4j8BHhfRHqKSM+TfE0a0HrgrbDludaygB4i8qmIbBCRm9sXP3i8sGYf+w/X8rNLhxEeZpeLGuNP/9/soSjw+6Whuaylr+MP32357/dPeP42mo8M2hrQbuvd7MSjiAhgHDAT6AKsEZFsVf3KLX8icidwJ0C/fv18jBw4jtY28NePc5mWmcQFWcluxzEm5KQldGHe1AE88Wket50/gHPS492O5Fe+3lA24BQfJzurWQi0HuNIB4ra2GaJqtaoajmwHBjVxvd/SlXHq+r45OTge6N84tM8quqbbx4zxrjj7hmDSOwWxW+X7HA7it/5ekNZpIjcKyJvtnzMF5HI03zZOiBTRAaISBRwLbDohG3eAaaJSISIdAUmASH1t1BWfZy/r9nHFaPTGNbbbh4zxi1xMZH8x4xBrMqtIDvE1izw9RzBEzQP4Tze8jGu5bmTUtUmYD6wlOY399dVdZuI3CUid7Vss4PmG9K2AGuBv6lqzpnsSKBasCyPRo9yry0/aYzrbpzcn+S4aP70YWhNSOfrOYIJqtp6yOZjEdl8ui9S1cWcMAWFqi444fHvgN/5mCOolFbV81J2AVeMTmOArTVgjOtiIsO5e8YgHnx3O6vzypkyKMntSH7h6xGBR0S+nBC/5WYyjzORQsfjn+bR5FXunWnz9hnTWVw3sR8p3ZuPCkJlQjpfi+A/ab6E9NOWu38/Bn7sXKzgV1xZxytr93PN2HT6J9rRgDGdRUxkOPMvHMy6fUdYmVvudhy/OG0RtNwhPArIBO5t+Riiqp84nC2oPf5JHl6vMv8iOxowprP5zoS+9ImP4Y8hclRw2iJQVQ/NU0AcV9UtqrpZVY/7IVvQOni0jn+sO8B3JvSlb8+ubscxxpwgOiKc+Rdl8vn+oyzbXeZ2HMf5OjS0WkQeFZFpIjL2iw9HkwWxxz7JRVHuudCOBozprK4Zl05aQpeQOFfg61VDU1r+++tWzylwUcfGCX4HDtfy+roDXDexH2kJXdyOY4w5iaiIMO6dOZj7F27l452lzByW4nYkx/haBPNUNb/1E75MQ22+7tGPcwkLE+6+cNDpNzbGuOqqsek89kkef/poNxcN7RW0y8b6OjT0ZhvPvdGRQUJBQUUNb24s5PqJ/egdb0cDxnR2keFh3Dszk5yDVXy4vcTtOI455RGBiAwFRgDxInJVq5e6A7Z8Vjv99eNcIsKEu2fY0YAxgeKK0X147JNc/vTRHr4xLIWwIJwd+HRHBEOAbwEJwGWtPsYCdziaLMgcOFzLPz8/yA2T+tOru3WoMYEiIjyMH1w0mB3FVfw7SBe6P+URgaq+A7wjIuep6ho/ZQpKz6zciwB3TB/gdhRjTDtdNqoPf/jXbp5anses4cF30tjXk8W5IvIzIKP116jqbU6ECjZHahr4x7oDzB2dZucGjAlAkeFh3D5tAA++u50NBYcZ1/9k63EFJl9PFr8DxAMfAe+3+jA+eDG7gLpGD3fagvTGBKzvTuhLQtdInlyWf/qNA4yvRwRdVfV+R5MEqfpGD39fvY8LhyQzJDXO7TjGmDPUNSqCmyb359FPcskrO8ag5Fi3I3UYX48I3hORSxxNEqTe3FBIRU0D37/ArhQyJtB9b0oGkeFh/G1FcB0V+FoE9wHvikidiFSJSLWIVDkZLBh4vMrTK/IZ1TeBSQOCa0zRmFCUFBvNt8els3DDQUqr692O02F8LYJ44Bbgf1S1O833FsxyKlSwWLrtEAUVtdw1fWDQ3pFoTKi5Y9pAGr1enl+1z+0oHcbXIngMmAxc1/K4GnjUkURBQlV5clkeGYld+eaIVLfjGGM6SEZSN+aMTOXF7AKOHW9yO06H8LUIJqnqPUA9gKoeAaIcSxUEsvMPs7mwktunDSQ8CO9ENCaU3Tl9ENX1Tby2dr/bUTqEr0XQ2LJAjQKISDLgdSxVEHhqeR6J3aK4Zly621GMMR1sdMt5v2dW7qXRE/hvhb4Wwf8B/wR6icjDwErgvx1LFeB2Hqrik11l3DIlg5jIcLfjGGMccNcFgyiurOfdzUVuRzlrPt1HoKovi8gGYCYgwBWqusPRZAHsqeX5dIkM56bz+rsdxRjjkBlDkhmSEseTy/K5ckxaQF8Q4usRAaq6U1UfU9VHrQROruhoHYs2FXHtxL4kdLXTKMYEKxHhzukD2VVSzacBvpylz0VgfPPCmgK8qsybapPLGRPsLhvVh9TuMTyzYq/bUc6KFUEHqm/08Pr6A8wankJ6D1uU3phgFxURxg2T+rEyt5z8smNuxzljVgQdaPHWYg7XNHDzeRluRzHG+Ml3J/YlMlx4KTtwLyW1IuhAL2YXMDC5G1MGJbodxRjjJ73iYpg9sjdvbDhAbUNg3mBmRdBBcg5W8vn+o9w4qX9AXz1gjGm/myb3p7q+KWAvJbUi6CAvrimgS2Q4V9sNZMaEnAkZPRiaGscLawpQVbfjtJsVQQeorG3knc0HuWJMH+K7RLodxxjjZyLCjZP7s62ois8PHHU7TrtZEXSANzcWUt/o5cbJdgOZMaHqijFpxEZH8NKaArejtJsVwVnyepWXsgsY2y+BEX3i3Y5jjHFJbHQEV41N470txVQcO+52nHaxIjhLq/LK2VteY5eMGmO4aXJ/GjxeXl9f6HaUdrEiOEsvrimgZ7co5pxjaw4YE+oyU+KYPLAnL39WgMcbOCeNrQjOQtHROj7aUcJ3J/QlOsJmGTXGwE2TMyg8Usey3aVuR/GZFcFZeOWz/Shww6R+bkcxxnQS3xyRQq+4aF4IoJPGVgRnqKHJy2vr9jNzaC+bV8gY86XI8DCum9iPZbvLKKiocTuOT6wIztCSbYcoP9Zgl4waY77muon9CBPhlc8CY/4hR4tARGaLyC4RyRWRn55iuwki4hGRa5zM05FeWlNA/8SuTM9MdjuKMaaTSY2P4eIRKfxj/QHqGz1uxzktx4qgZY3jx4A5wHDgOhEZfpLt/hdY6lSWjra3vIa1+w5z7YR+hNnC9MaYNlw/sT9Haxv5aEeJ21FOy8kjgolArqrmq2oD8Bowt43tfgAsBALmFPtbGwsJE7hqbJrbUYwxndR5gxLpHR/Dwg2d/54CJ4sgDTjQ6nFhy3NfEpE04Epgwan+IBG5U0TWi8j6sjJ3l4TzepW3Nh5kamYyKd1jXM1ijOm8wsOEK8eksXxPOaXV9W7HOSUni6CtMZMT77D4M3C/qp5yEE1Vn1LV8ao6PjnZ3TH57L0VHDxax9V2NGCMOY2rx6Xj8SrvfN65p6d2sggKgb6tHqcDJ/40xgOvicg+4BrgcRG5wsFMZ23hhoPERUdw8Qi7k9gYc2qDkmMZ3TeBhRsLO/X01E4WwTogU0QGiEgUcC2wqPUGqjpAVTNUNQN4E7hbVd92MNNZqTnexAc5xVx6bm9iIu1OYmPM6V09Lp2dh6rZVlTldpSTcqwIVLUJmE/z1UA7gNdVdZuI3CUidzn1fZ20JOcQtQ0eW3zGGOOzy87tTVR4GAs3dt6TxhFO/uGquhhYfMJzbZ4YVtVbnMzSERZuLKR/YlfG9+/hdhRjTIBI6BrFN4b3YtGmIn52yTAiwzvffbydL1EndfBoHWvyK7hqTLqtSWyMaZerx6ZTUdPAp7vcverxZKwIfPTPjYWo2r0Dxpj2m56VTFJsVKe9p8CKwAeqysKNB5k4oCd9e9oEc8aY9okMD+PyUWn8e2cJR2oa3I7zNVYEPti4/yh7y2u4ZqydJDbGnJmrx6XR6FHe3dL57imwIvDBwo2FxESG2SpkxpgzNqJPPENT4zrl8JAVwWnUN3p4b3MRs0ekEhcT6XYcY0wAu2ZcOpsLK8ktrXY7yldYEZzGRztKqKpvsnsHjDFnbe7oNMLDhDc3HHQ7yldYEZzGwg2FpHaPYcqgJLejGGMCXHJcNBdkJfPPzws71eL2VgSnUFpdz/I95Vw5trnFjTHmbF09Np2SquOsyi13O8qXrAhO4b3NxXi8ajONGmM6zMxhvegeE8HbmzrP8JAVwSksyTnE0NQ4BveKczuKMSZIxESGM2t4Kh9tL6Ghyet2HMCK4KRKq+tZV3CY2SPtklFjTMeaMzKVqvomVud1juEhK4KTWLqtBFWYM7K321GMMUFmamYS3aLCWZJzyO0ogBXBSS3JKWZgUjeyUmLdjmKMCTIxkeFcNCyFf20vocnj/vCQFUEbjtQ0kJ1/mDnnpNpMo8YYR1wyMpXDNQ2s3XfY7ShWBG35cHsJHq/asJAxxjEXDEkmJjKsUwwPWRG0YXFOMek9ujCiT3e3oxhjglTXqAhmZPViSc4hvC7fXGZFcILKukZW5ZYzZ6QNCxljnDXnnFRKq4+zcf8RV3NYEZzg450lNHqU2TYsZIxx2EVDexEVHsYHLg8PWRGc4IOth0jtHsOYvgluRzHGBLm4mEimZSaxJOcQqu4ND1kRtFJzvIllu8uYPTKVMJtbyBjjB7NHpnLwaB1bD1a6lsGKoJVPdpVyvMlrdxMbY/xm1vAUIsKExVvdGx6yImjlg5xDJMVGMSGjp9tRjDEhIqFrFOcNSmRJTrFrw0NWBC3qGz18srOUWcNTbcppY4xfzR6Zyr6KWnYecmflMiuCFst3l1Hb4OESW5fYGONn3xyeSpjg2tVDVgQtluQcIr5LJJMHJrodxRgTYpLjopmQ0ZMlOcWufH8rAqChycuHO0qYNTyFyHD7kRhj/G/OyFR2lxwjt/SY37+3vesBq/LKqa5vYo5dLWSMcckXN7G6cVRgRQAs2XqI2OgIpmbaAvXGGHekxscwpl+CK+cJQr4IvF7l3ztLuHBoL6Ijwt2OY4wJYXNGprKtqIqDR+v8+n1Dvgi2F1dRfqyBGVnJbkcxxoS4C7J6AbByT5lfv2/IF8GKPc1rhk6zYSFjjMuyUmJJ6R7N8j3+XcvYimBPGUNT4+jVPcbtKMaYECciTMtMZlVuOR4/rlEQ0kVQ29DE+n1HmG7DQsaYTmJaZhJHaxvJ8eMkdCFdBJ/lH6bB47VhIWNMpzF1cPP70fLd/jtPENJFsHxPGdERYTbJnDGm00iMjWZkWvcvz1/6Q0gXwYo95UwamEhMpF02aozpPKZnJrNx/xGq6xv98v0cLQIRmS0iu0QkV0R+2sbrN4jIlpaP1SIyysk8rRUdrSO39BjTbVjIGNPJTMtMpsmrZOcf9sv3c6wIRCQceAyYAwwHrhOR4Sdsthe4QFXPBR4CnnIqz4lWfnnZqJ0oNsZ0LmP7J9A1KpwVfrqfwMkjgolArqrmq2oD8Bowt/UGqrpaVY+0PMwG0h3M8xXL95TRKy6arJRYf31LY4zxSXREOJMHJvrthLGTRZAGHGj1uLDluZOZB3zQ1gsicqeIrBeR9WVlZ/+D8XiVlbnlTMtMRsQWoTHGdD7TMpPYV1HL/opax7+Xk0XQ1jtsm3dIiMiFNBfB/W29rqpPqep4VR2fnHz2Qzk5Bys5WtvI9Cw7P2CM6Zy+uL9pRa7zRwVOFkEh0LfV43Sg6MSNRORc4G/AXFWtcDDPl74Yd/viel1jjOlsBiZ1Iy2hCyt2O38ZqZNFsA7IFJEBIhIFXAssar2BiPQD3gJuUtXdDmb5iuV7yhmZ1p3E2Gh/fUtjjGmX5ukmkliVV06Tx+vo93KsCFS1CZgPLAV2AK+r6jYRuUtE7mrZ7AEgEXhcRDaJyHqn8nzh2PEmNhYcsauFjDGd3rTMZKrrm9hc6Ox0ExFO/uGquhhYfMJzC1p9fjtwu5MZTrQmr4Imr9q0EsaYTu/8wYmESfN0E+P693Ds+4TcncUr9pTRNSrc0R+qMcZ0hISuUZybnuD4/QQhWATlTB6YaKuRGWMCwvTMJDYdOEplnXPTTYRUERw4XMve8hobFjLGBIxpWcl4FdbkOXf1UEgVwQqbVsIYE2BG900gNjrC0VXLQqoIlu8uo098DIOSu7kdxRhjfBIZHsZ5g5qnm1B1ZtWykCmCJo+XVXnlTM+yaSWMMYFlelYyhUfq2OfQdBMhUwSbCyuprm+yYSFjTMD5Yrp8p64eCpkiqGvwMKJPd84fnOh2FGOMaZf+id2YMiiRMIdGM8SpMSenjB8/Xtevd/wGZGOMCSoiskFVx7f1WsgcERhjjGmbFYExxoQ4KwJjjAlxVgTGGBPirAiMMSbEWREYY0yIsyIwxpgQZ0VgjDEhLuBuKBORMqDgNJslAc6v+Nw5hfK+Q2jvfyjvO4T2/vuy7/1Vtc05dgKuCHwhIutPdgddsAvlfYfQ3v9Q3ncI7f0/2323oSFjjAlxVgTGGBPigrUInnI7gItCed8htPc/lPcdQnv/z2rfg/IcgTHGGN8F6xGBMcYYH1kRGGNMiAvoIhCR2SKyS0RyReSnbbwuIvJ/La9vEZGxbuR0gg/7fkPLPm8RkdUiMsqNnE443b632m6CiHhE5Bp/5nOaL/svIjNEZJOIbBORZf7O6BQf/t3Hi8i7IrK5Zd9vdSOnE0TkWREpFZGck7x+5u93qhqQH0A4kAcMBKKAzcDwE7a5BPgAEGAy8Jnbuf2471OAHi2fzwmlfW+13cfAYuAat3P7+e8+AdgO9Gt53Mvt3H7c958B/9vyeTJwGIhyO3sH7f90YCyQc5LXz/j9LpCPCCYCuaqar6oNwGvA3BO2mQu8oM2ygQQR6e3voA447b6r6mpVPdLyMBtI93NGp/jy9w7wA2AhUOrPcH7gy/5fD7ylqvsBVDVYfga+7LsCcSIiQCzNRdDk35jOUNXlNO/PyZzx+10gF0EacKDV48KW59q7TSBq737No/k3hWBw2n0XkTTgSmCBH3P5iy9/91lADxH5VEQ2iMjNfkvnLF/2/VFgGFAEbAXuU1Wvf+K57ozf7yIcieMf0sZzJ14L68s2gcjn/RKRC2kugqmOJvIfX/b9z8D9qupp/sUwqPiy/xHAOGAm0AVYIyLZqrrb6XAO82XfLwY2ARcBg4APRWSFqlY5nK0zOOP3u0AugkKgb6vH6TT/FtDebQKRT/slIucCfwPmqGqFn7I5zZd9Hw+81lICScAlItKkqm/7JaGzfP13X66qNUCNiCwHRgGBXgS+7PutwG+1edA8V0T2AkOBtf6J6Kozfr8L5KGhdUCmiAwQkSjgWmDRCdssAm5uOZs+GahU1WJ/B3XAafddRPoBbwE3BcFvgq2ddt9VdYCqZqhqBvAmcHeQlAD49u/+HWCaiESISFdgErDDzzmd4Mu+76f5SAgRSQGGAPl+TemeM36/C9gjAlVtEpH5wFKaryZ4VlW3ichdLa8voPmKkUuAXKCW5t8WAp6P+/4AkAg83vKbcZMGwcyMPu570PJl/1V1h4gsAbYAXuBvqtrmJYeBxMe/+4eA50VkK81DJferalBMTS0irwIzgCQRKQR+CUTC2b/f2RQTxhgT4gJ5aMgYY0wHsCIwxpgQZ0VgjDEhzorAGGNCnBWBMcaEOCsCY4wJcVYEJiS1TE+9SURyROSNlhuvEJEuIrJMRLqJyE4ROafV1/xERDr8PgUReVhEDojIsROenx9M0yibzsvuIzAhSUSOqWpsy+cvAxtU9Y8icg8Qoap/EZHZwH/RPP1vH2A5ML7VrK4dlWUyUADs+SJTy/NdgVWqOqYjv58xJ7IjAmNgBTC45fMbaJ6iAVVdAhQDNwN/An7lSwmIyEwR+Werx7NE5K2Tba+q2W1NBaCqtcA+EZnYnp0xpr0CdooJYzqCiETQvHDPkpb5awaq6r5Wm/yQ5gnL9qjqiy1fE0dzebTlepoXxHlMRJJVtYzmW/2fO8OI64FphMakacYlVgQmVHURkU0tn68AnqF5ptKjrTdS1SIR+Rh4r9Vz1cDoU/3hIvIicKOIPAecR/NRxZkopXn2TGMcY0VgQlWdqo5u/YSI1AExbWzrbfn4YrtTHhGo6naajwDeBeqBN1T1TFfJigHqzvBrjfGJFYExLVT1iIiEi0iMqtafYrvTHhG0HEkUAT8HZp1FrCxg1Vl8vTGnZSeLjfmqf9Fxq7m9DBxoOUI4KRF5pGVa4a4iUigiv2r18vnARx2Ux5g22eWjxrQiImOAH6nqTR3wZz0KfK6qz7idxZhTsaEhY1pR1c9F5BMRCVdVz5n+OSKyAagBfnwWcZKAX5zF1xvjEzsiMMZPROQzIPqEp29S1a1u5DHmC1YExhgT4uxksTHGhDgrAmOMCXFWBMYYE+KsCIwxJsT9P5ZSdNF+WJ2YAAAAAElFTkSuQmCC\n",
=======
      "image/png": "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\n",
>>>>>>> upstream/master
      "text/plain": [
       "<Figure size 432x288 with 1 Axes>"
      ]
     },
     "metadata": {
      "needs_background": "light"
     },
     "output_type": "display_data"
    }
   ],
   "source": [
    "X = np.linspace(0, 1)[1:-1]\n",
    "plt.plot(X, [entropy([x, 1-x]) for x in X])\n",
    "plt.xlabel('P(Y=y_1)')\n",
    "plt.ylabel('entropy')\n",
    "plt.show()"
   ]
  },
  {
   "cell_type": "markdown",
   "metadata": {},
   "source": [
    "En el caso de dos monedas, tenemos cuatro combinaciones posibles, siendo $0.25$ la probabilidad de cada evento. Ejemplos:"
   ]
  },
  {
   "cell_type": "code",
   "execution_count": 6,
   "metadata": {},
   "outputs": [
    {
     "data": {
      "text/plain": [
       "2.0"
      ]
     },
     "execution_count": 6,
     "metadata": {},
     "output_type": "execute_result"
    }
   ],
   "source": [
    "entropy(np.array([0.25, 0.25, 0.25, 0.25]))"
   ]
  },
  {
   "cell_type": "markdown",
   "metadata": {},
   "source": [
    "Pero si las monedas estan sesgadas tendríamos: "
   ]
  },
  {
   "cell_type": "code",
   "execution_count": 7,
   "metadata": {},
   "outputs": [
    {
     "data": {
      "text/plain": [
       "1.1414405425418206"
      ]
     },
     "execution_count": 7,
     "metadata": {},
     "output_type": "execute_result"
    }
   ],
   "source": [
    "entropy(np.array([0.49, 0.49, 0.01, 0.01]))"
   ]
  },
  {
   "cell_type": "markdown",
   "metadata": {},
   "source": [
    "### Entropía de un Dataset\n",
    "\n",
    "Un dataset define una distribución empírica. La entropía del dataset es entones la entropía de la distribución asociada. Definamos el cálculo de la distribución, y luego redefinamos entropía:"
   ]
  },
  {
   "cell_type": "code",
   "execution_count": 8,
   "metadata": {},
   "outputs": [],
   "source": [
    "def probs(y):\n",
    "    _, counts = np.unique(y, return_counts=True)\n",
    "    probs = counts / counts.sum()\n",
    "    return probs"
   ]
  },
  {
<<<<<<< HEAD
   "cell_type": "code",
   "execution_count": 9,
=======
   "cell_type": "markdown",
>>>>>>> upstream/master
   "metadata": {},
   "source": [
    "Definimos un dataset de 6 elementos con dos atributos $X_1$ y $X_2$ con dos tipos de etiquetas: \n",
    "\n",
    "$False: -1$ y $True: 1$. \n",
    "<img src=\"img/tablaDataset2.png\" width=\"100\"/>\n",
    "Siendo las etiquetas resultantes del mismo: \n"
   ]
  },
  {
   "cell_type": "code",
<<<<<<< HEAD
=======
   "execution_count": 9,
   "metadata": {},
   "outputs": [],
   "source": [
    "y = np.array([1, 1, 1, 1, 1, -1])"
   ]
  },
  {
   "cell_type": "markdown",
   "metadata": {},
   "source": [
    "Mediante la función \"probs\" podemos calcular la probilidad de cada clase en este dataset: "
   ]
  },
  {
   "cell_type": "code",
>>>>>>> upstream/master
   "execution_count": 10,
   "metadata": {},
   "outputs": [
    {
     "data": {
      "text/plain": [
       "array([0.16666667, 0.83333333])"
      ]
     },
     "execution_count": 10,
     "metadata": {},
     "output_type": "execute_result"
    }
   ],
   "source": [
    "probs(y)"
   ]
  },
  {
   "cell_type": "markdown",
   "metadata": {},
   "source": [
    "Esos resultados nos informan que hay un desbalance en el mismo (hay más probabilidad de una de las clases).\n",
    "\n",
    "Ahora obtengamos la entropía del dataset:"
   ]
  },
  {
   "cell_type": "code",
   "execution_count": 11,
   "metadata": {},
   "outputs": [],
   "source": [
    "def entropy(y):\n",
    "    p = probs(y)\n",
    "    return - np.sum(p * np.log2(p))"
   ]
  },
  {
   "cell_type": "code",
   "execution_count": 12,
   "metadata": {},
   "outputs": [
    {
     "data": {
      "text/plain": [
       "0.6500224216483541"
      ]
     },
     "execution_count": 12,
     "metadata": {},
     "output_type": "execute_result"
    }
   ],
   "source": [
    "entropy(y)"
   ]
  },
  {
   "cell_type": "markdown",
   "metadata": {},
   "source": [
    "### Entropía Condicional\n",
    "\n",
    "Definamos entropía condicional:\n",
    "\n",
    "$$H(Y|X) = - \\sum_{j=1}^v P(X = x_j) \\sum_{i=1}^k P(Y = y_i | X = x_j) log_2 P(Y = y_i | X = x_j)$$\n",
    "\n",
    "Equivalentemente, \n",
    "\n",
    "$$H(Y|X) = \\sum_{j=1}^v P(X = x_j) H(Y|X = x_j)$$\n",
    "\n",
    "Tomaremos $X$ binaria ($v=2$), por lo que la entropía condicional tendrá sólo dos términos.\n"
   ]
  },
  {
   "cell_type": "code",
   "execution_count": 13,
   "metadata": {},
   "outputs": [],
   "source": [
    "def cond_entropy(y1, y2):\n",
    "    size = y1.shape[0] + y2.shape[0]\n",
    "    return y1.shape[0] / size * entropy(y1) + y2.shape[0] / size * entropy(y2) "
   ]
  },
  {
   "cell_type": "markdown",
   "metadata": {},
   "source": [
    "Esta función toma como argumento los dos subconjuntos de datos que se forman al considerar una de las variables como condición."
   ]
  },
  {
   "cell_type": "markdown",
   "metadata": {},
   "source": [
    "Si analizámos la varibale $Y$ donde la $X_1$ es $True$, tenemos: "
   ]
  },
  {
   "cell_type": "code",
   "execution_count": 14,
<<<<<<< HEAD
=======
   "metadata": {},
   "outputs": [],
   "source": [
    "y_X1true = np.array([1,1,1,1]) #X1 = True"
   ]
  },
  {
   "cell_type": "markdown",
   "metadata": {},
   "source": [
    "de igual manera, la varibale $Y$  donde la $X_1$ es $False$, tenemos: "
   ]
  },
  {
   "cell_type": "code",
   "execution_count": 15,
   "metadata": {},
   "outputs": [],
   "source": [
    "y_X1false =  np.array([1,-1]) #X1 = False"
   ]
  },
  {
   "cell_type": "markdown",
   "metadata": {},
   "source": [
    "Haciendo uso de la función \"cond_entropy\" podemos obtener la entropía condicional de la variable $Y$ dado $X_1$"
   ]
  },
  {
   "cell_type": "code",
   "execution_count": 16,
>>>>>>> upstream/master
   "metadata": {},
   "outputs": [
    {
     "data": {
      "text/plain": [
       "0.3333333333333333"
      ]
     },
<<<<<<< HEAD
     "execution_count": 14,
=======
     "execution_count": 16,
>>>>>>> upstream/master
     "metadata": {},
     "output_type": "execute_result"
    }
   ],
   "source": [
    "cond_entropy(y_X1true,y_X1false)  # x1"
   ]
  },
  {
   "cell_type": "markdown",
   "metadata": {},
   "source": [
    "De igual manera podemos calcular la entropía condicional dado la variable $X_2$"
   ]
  },
  {
   "cell_type": "code",
<<<<<<< HEAD
   "execution_count": 15,
=======
   "execution_count": 17,
>>>>>>> upstream/master
   "metadata": {},
   "outputs": [
    {
     "data": {
      "text/plain": [
       "0.4591479170272448"
      ]
     },
<<<<<<< HEAD
     "execution_count": 15,
=======
     "execution_count": 17,
>>>>>>> upstream/master
     "metadata": {},
     "output_type": "execute_result"
    }
   ],
   "source": [
    "y_X2true = np.array([1,1,1]) #X2 = True\n",
    "y_X2false = np.array([1,1,-1]) #X2 = False\n",
    "cond_entropy(y_X2true, y_X2false)  # x2"
   ]
  },
  {
   "cell_type": "markdown",
   "metadata": {},
   "source": [
    "### Ganancia de Información\n",
    "\n",
    "La ganancia de información será simplemente la diferencia entre entropía y entropía condicional:"
   ]
  },
  {
   "cell_type": "code",
<<<<<<< HEAD
   "execution_count": 16,
=======
   "execution_count": 18,
>>>>>>> upstream/master
   "metadata": {},
   "outputs": [],
   "source": [
    "def information_gain(y1, y2):\n",
    "    y = np.concatenate((y1,y2))\n",
    "    return entropy(y) - cond_entropy(y1,y2)"
   ]
  },
  {
   "cell_type": "markdown",
   "metadata": {},
   "source": [
    "Podemos calcular la ganancia de información que implicaría dividir el dataset tomando como $X_1$ como nodo referencia. Para ello hacemos uso de la función \"information_gain\" que toma los dos subconjuntos de etiquetas que se formarían al tomar una u otra variable como referencia. "
   ]
  },
  {
   "cell_type": "markdown",
   "metadata": {},
   "source": [
    "Para el caso de $X_1$: "
   ]
  },
  {
   "cell_type": "code",
<<<<<<< HEAD
   "execution_count": 17,
=======
   "execution_count": 19,
>>>>>>> upstream/master
   "metadata": {},
   "outputs": [
    {
     "data": {
      "text/plain": [
       "0.3166890883150208"
      ]
     },
<<<<<<< HEAD
     "execution_count": 17,
=======
     "execution_count": 19,
>>>>>>> upstream/master
     "metadata": {},
     "output_type": "execute_result"
    }
   ],
   "source": [
    "information_gain(y_X1true, y_X1false)  # x1"
   ]
  },
  {
   "cell_type": "markdown",
   "metadata": {},
   "source": [
    "Para el caso de $X_2$: "
   ]
  },
  {
   "cell_type": "code",
<<<<<<< HEAD
   "execution_count": 18,
=======
   "execution_count": 20,
>>>>>>> upstream/master
   "metadata": {},
   "outputs": [
    {
     "data": {
      "text/plain": [
       "0.19087450462110933"
      ]
     },
<<<<<<< HEAD
     "execution_count": 18,
=======
     "execution_count": 20,
>>>>>>> upstream/master
     "metadata": {},
     "output_type": "execute_result"
    }
   ],
   "source": [
    "information_gain(y_X2true, y_X2false)  # x2"
   ]
  },
  {
   "cell_type": "markdown",
   "metadata": {},
   "source": [
    "## Datos Sintéticos No Linealmente Separables\n",
    "\n",
    "Haremos algunos experimentos con datos generados sintéticamente. Estos datos serán no linealmente separables.\n",
    "\n",
    "Ejemplos típicos de datos no linealmente separables son los de tipo \"OR\", \"AND\" y \"XOR\". Usaremos datos de tipo \"OR\" para este ejemplo.\n",
    "\n"
   ]
  },
  {
   "cell_type": "code",
<<<<<<< HEAD
   "execution_count": 19,
=======
   "execution_count": 21,
>>>>>>> upstream/master
   "metadata": {},
   "outputs": [],
   "source": [
    "size = 200"
   ]
  },
  {
   "cell_type": "code",
<<<<<<< HEAD
   "execution_count": 20,
=======
   "execution_count": 22,
>>>>>>> upstream/master
   "metadata": {},
   "outputs": [],
   "source": [
    "np.random.seed(0)\n",
    "X = np.random.randn(size, 2)\n",
    "y_true = np.logical_or(X[:, 0] > 0, X[:, 1] > 0)    # datos \"OR\"\n",
    "#y_true = np.logical_xor(X[:, 0] > 0, X[:, 1] > 0)  # datos \"XOR\"\n",
    "#y_true = np.logical_and(X[:, 0] > 0, X[:, 1] > 0)  # datos \"AND\"\n",
    "y_true = y_true.astype(int)\n",
    "y_true[y_true == 0] = -1"
   ]
  },
  {
   "cell_type": "code",
<<<<<<< HEAD
   "execution_count": 21,
=======
   "execution_count": 23,
>>>>>>> upstream/master
   "metadata": {},
   "outputs": [
    {
     "data": {
<<<<<<< HEAD
      "image/png": "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\n",
=======
      "image/png": "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\n",
>>>>>>> upstream/master
      "text/plain": [
       "<Figure size 432x288 with 1 Axes>"
      ]
     },
     "metadata": {
      "needs_background": "light"
     },
     "output_type": "display_data"
    }
   ],
   "source": [
    "plt.scatter(X[y_true==1, 0], X[y_true==1, 1], color=\"royalblue\", label=\"1\")\n",
    "plt.scatter(X[y_true==-1, 0], X[y_true==-1, 1], color=\"red\", label=\"-1\")\n",
    "plt.grid()\n",
    "plt.legend()\n",
    "plt.show()"
   ]
  },
  {
   "cell_type": "markdown",
   "metadata": {},
   "source": [
    "### División en Entrenamiento y Evaluación\n",
    "\n",
    "Separemos la mitad para entrenamiento y la otra para evaluación."
   ]
  },
  {
   "cell_type": "code",
<<<<<<< HEAD
   "execution_count": 22,
=======
   "execution_count": 24,
>>>>>>> upstream/master
   "metadata": {},
   "outputs": [],
   "source": [
    "train_size = 100\n",
    "test_size = size - train_size\n",
    "X_train, X_test = X[:train_size], X[train_size:]\n",
    "y_train, y_test = y_true[:train_size], y_true[train_size:]"
   ]
  },
  {
   "cell_type": "code",
<<<<<<< HEAD
   "execution_count": 23,
=======
   "execution_count": 25,
>>>>>>> upstream/master
   "metadata": {},
   "outputs": [
    {
     "data": {
      "text/plain": [
       "((100, 2), (100, 2))"
      ]
     },
<<<<<<< HEAD
     "execution_count": 23,
=======
     "execution_count": 25,
>>>>>>> upstream/master
     "metadata": {},
     "output_type": "execute_result"
    }
   ],
   "source": [
    "X_train.shape, X_test.shape"
   ]
  },
  {
   "cell_type": "markdown",
   "metadata": {},
   "source": [
    "### Clasificación Lineal\n",
    "\n",
    "Veamos qué tan mal anda un clasificador lineal sobre estos datos."
   ]
  },
  {
   "cell_type": "code",
<<<<<<< HEAD
   "execution_count": 24,
=======
   "execution_count": 26,
>>>>>>> upstream/master
   "metadata": {},
   "outputs": [],
   "source": [
    "from sklearn.linear_model import LogisticRegression\n",
    "\n",
    "model = LogisticRegression()\n",
    "model.fit(X_train, y_train);"
   ]
  },
  {
   "cell_type": "code",
<<<<<<< HEAD
   "execution_count": 25,
=======
   "execution_count": 27,
>>>>>>> upstream/master
   "metadata": {},
   "outputs": [
    {
     "data": {
<<<<<<< HEAD
      "image/png": "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\n",
=======
      "image/png": "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\n",
>>>>>>> upstream/master
      "text/plain": [
       "<Figure size 432x288 with 1 Axes>"
      ]
     },
     "metadata": {
      "needs_background": "light"
     },
     "output_type": "display_data"
    }
   ],
   "source": [
    "from utils import plot_decision_boundary\n",
    "\n",
    "plot_decision_boundary(lambda x: model.predict(x), X, y_true)"
   ]
  },
  {
   "cell_type": "markdown",
   "metadata": {},
   "source": [
    "Calculemos la calidad de la predicción en entrenamiento y evaluación:"
   ]
  },
  {
   "cell_type": "code",
<<<<<<< HEAD
   "execution_count": 26,
=======
   "execution_count": 28,
>>>>>>> upstream/master
   "metadata": {},
   "outputs": [],
   "source": [
    "y_train_pred = model.predict(X_train)\n",
    "y_test_pred = model.predict(X_test)"
   ]
  },
  {
   "cell_type": "code",
<<<<<<< HEAD
   "execution_count": 27,
=======
   "execution_count": 29,
>>>>>>> upstream/master
   "metadata": {},
   "outputs": [
    {
     "name": "stdout",
     "output_type": "stream",
     "text": [
      "Train accuracy: 0.91\n",
      "Test accuracy: 0.78\n"
     ]
    }
   ],
   "source": [
    "from sklearn.metrics import accuracy_score\n",
    "\n",
    "train_acc = accuracy_score(y_train, y_train_pred)\n",
    "test_acc = accuracy_score(y_test, y_test_pred)\n",
    "print(f'Train accuracy: {train_acc:0.2}')\n",
    "print(f'Test accuracy: {test_acc:0.2}')"
   ]
  },
  {
   "cell_type": "markdown",
   "metadata": {},
   "source": [
    "### Nota al Margen: Induciendo Separabilidad Lineal\n",
    "\n",
    "Muchas veces se pueden convertir datos no linealmente separables en datos separables (o casi) mediante la introducción de nuevos atributos que combinan los atributos existentes.\n",
    "Un ejemplo de estos son los atributos polinomiales.\n",
    "\n",
    "Aquí lo haremos con datos \"OR\", pero la diferencia es mucho más notable con datos de tipo \"XOR\"."
   ]
  },
  {
   "cell_type": "code",
<<<<<<< HEAD
   "execution_count": 28,
=======
   "execution_count": 30,
>>>>>>> upstream/master
   "metadata": {},
   "outputs": [],
   "source": [
    "from sklearn.preprocessing import PolynomialFeatures\n",
    "from sklearn.pipeline import make_pipeline #para hacer el entrenamiento\n",
    "\n",
    "pre = PolynomialFeatures(\n",
    "    degree=2,\n",
    "    interaction_only=True,  # para usar solo x0*x1, no x0*x0 ni x1*x1\n",
    "    include_bias=False)\n",
    "X_train2 = pre.fit_transform(X_train)"
   ]
  },
  {
   "cell_type": "code",
<<<<<<< HEAD
   "execution_count": 29,
=======
   "execution_count": 31,
>>>>>>> upstream/master
   "metadata": {},
   "outputs": [
    {
     "data": {
      "text/plain": [
       "((100, 2), (100, 3))"
      ]
     },
<<<<<<< HEAD
     "execution_count": 29,
=======
     "execution_count": 31,
>>>>>>> upstream/master
     "metadata": {},
     "output_type": "execute_result"
    }
   ],
   "source": [
    "X_train.shape, X_train2.shape  # se agregó el feature x0*x1"
   ]
  },
  {
   "cell_type": "markdown",
   "metadata": {},
   "source": [
    "Grafiquemos:"
   ]
  },
  {
   "cell_type": "code",
<<<<<<< HEAD
   "execution_count": 30,
=======
   "execution_count": 32,
>>>>>>> upstream/master
   "metadata": {},
   "outputs": [
    {
     "data": {
<<<<<<< HEAD
      "image/png": "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\n",
=======
      "image/png": "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\n",
>>>>>>> upstream/master
      "text/plain": [
       "<Figure size 432x288 with 1 Axes>"
      ]
     },
     "metadata": {
      "needs_background": "light"
     },
     "output_type": "display_data"
    }
   ],
   "source": [
    "plt.scatter(X_train2[y_train==1, 1], X_train2[y_train==1, 2], color=\"dodgerblue\", edgecolors='k', label=\"1\")\n",
    "plt.scatter(X_train2[y_train==-1, 1], X_train2[y_train==-1, 2], color=\"tomato\", edgecolors='k', label=\"-1\")\n",
    "plt.grid()\n",
    "plt.legend()\n",
    "plt.show()"
   ]
  },
  {
   "cell_type": "code",
<<<<<<< HEAD
   "execution_count": 31,
=======
   "execution_count": 33,
>>>>>>> upstream/master
   "metadata": {},
   "outputs": [],
   "source": [
    "from sklearn.preprocessing import PolynomialFeatures\n",
    "from sklearn.pipeline import make_pipeline\n",
    "\n",
    "model = make_pipeline(\n",
    "    PolynomialFeatures(degree=2, interaction_only=True, include_bias=False),\n",
    "    LogisticRegression()\n",
    ")\n",
    "model.fit(X_train, y_train);"
   ]
  },
  {
   "cell_type": "code",
<<<<<<< HEAD
   "execution_count": 32,
=======
   "execution_count": 34,
>>>>>>> upstream/master
   "metadata": {},
   "outputs": [],
   "source": [
    "y_train_pred = model.predict(X_train)\n",
    "y_test_pred = model.predict(X_test)"
   ]
  },
  {
   "cell_type": "code",
<<<<<<< HEAD
   "execution_count": 33,
=======
   "execution_count": 35,
>>>>>>> upstream/master
   "metadata": {},
   "outputs": [
    {
     "name": "stdout",
     "output_type": "stream",
     "text": [
      "Train accuracy: 0.97\n",
      "Test accuracy: 0.86\n"
     ]
    }
   ],
   "source": [
    "from sklearn.metrics import accuracy_score\n",
    "\n",
    "train_acc = accuracy_score(y_train, y_train_pred)\n",
    "test_acc = accuracy_score(y_test, y_test_pred)\n",
    "print(f'Train accuracy: {train_acc:0.2}')\n",
    "print(f'Test accuracy: {test_acc:0.2}')"
   ]
  },
  {
   "cell_type": "code",
<<<<<<< HEAD
   "execution_count": 34,
=======
   "execution_count": 36,
>>>>>>> upstream/master
   "metadata": {},
   "outputs": [
    {
     "data": {
<<<<<<< HEAD
      "image/png": "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\n",
=======
      "image/png": "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\n",
>>>>>>> upstream/master
      "text/plain": [
       "<Figure size 432x288 with 1 Axes>"
      ]
     },
     "metadata": {
      "needs_background": "light"
     },
     "output_type": "display_data"
    }
   ],
   "source": [
    "from utils import plot_decision_boundary\n",
    "\n",
    "plot_decision_boundary(lambda x: model.predict(x), X, y_true)"
   ]
  },
  {
   "cell_type": "markdown",
   "metadata": {},
   "source": [
    "### Entropía y Valores Reales\n",
    "\n",
    "Calculemos la entropía inicial, y veamos cómo condicionar la entropía sobre variables reales (i.e. no categóricas)"
   ]
  },
  {
   "cell_type": "code",
<<<<<<< HEAD
   "execution_count": 35,
=======
   "execution_count": 37,
>>>>>>> upstream/master
   "metadata": {},
   "outputs": [
    {
     "data": {
      "text/plain": [
       "array([ 1,  1,  1,  1,  1,  1,  1,  1,  1,  1,  1,  1,  1,  1,  1,  1, -1,\n",
       "        1,  1, -1, -1,  1, -1,  1, -1,  1, -1,  1,  1, -1, -1, -1,  1,  1,\n",
       "        1,  1,  1,  1, -1,  1,  1,  1,  1,  1,  1,  1,  1,  1,  1,  1,  1,\n",
       "        1,  1, -1,  1,  1,  1,  1,  1,  1,  1,  1, -1,  1,  1,  1,  1,  1,\n",
       "        1,  1,  1,  1,  1,  1, -1,  1, -1, -1,  1, -1,  1,  1,  1, -1,  1,\n",
       "        1,  1,  1, -1,  1, -1, -1,  1,  1,  1,  1, -1,  1,  1,  1])"
      ]
     },
<<<<<<< HEAD
     "execution_count": 35,
=======
     "execution_count": 37,
>>>>>>> upstream/master
     "metadata": {},
     "output_type": "execute_result"
    }
   ],
   "source": [
    "y_train"
   ]
  },
  {
   "cell_type": "markdown",
   "metadata": {},
   "source": [
    "Podemos calcular la probabilidad de cada clase:"
   ]
  },
  {
   "cell_type": "code",
<<<<<<< HEAD
   "execution_count": 36,
=======
   "execution_count": 38,
>>>>>>> upstream/master
   "metadata": {},
   "outputs": [
    {
     "data": {
      "text/plain": [
       "array([0.21, 0.79])"
      ]
     },
<<<<<<< HEAD
     "execution_count": 36,
=======
     "execution_count": 38,
>>>>>>> upstream/master
     "metadata": {},
     "output_type": "execute_result"
    }
   ],
   "source": [
    "probs(y_train)"
   ]
  },
  {
   "cell_type": "markdown",
   "metadata": {},
   "source": [
    "y la entropía:"
   ]
  },
  {
   "cell_type": "code",
<<<<<<< HEAD
   "execution_count": 37,
=======
   "execution_count": 39,
>>>>>>> upstream/master
   "metadata": {},
   "outputs": [
    {
     "data": {
      "text/plain": [
       "0.7414827399312737"
      ]
     },
<<<<<<< HEAD
     "execution_count": 37,
=======
     "execution_count": 39,
>>>>>>> upstream/master
     "metadata": {},
     "output_type": "execute_result"
    }
   ],
   "source": [
    "entropy(y_train)"
   ]
  },
  {
   "cell_type": "markdown",
   "metadata": {},
   "source": [
    "Para hacer una división sobre una variable real usaremos un valor \"threshold\" (umbral):"
   ]
  },
  {
   "cell_type": "code",
<<<<<<< HEAD
   "execution_count": 38,
=======
   "execution_count": 40,
>>>>>>> upstream/master
   "metadata": {},
   "outputs": [],
   "source": [
    "def split(X, y, i, threshold): #tiene el umbral\n",
    "    y1 = y[X[:, i] > threshold]\n",
    "    y2 = y[X[:, i] <= threshold]\n",
    "    return y1, y2"
   ]
  },
  {
   "cell_type": "markdown",
   "metadata": {},
   "source": [
    "definimos la \"split\" que toma como argumento el dataset con sus etiquetas, el indice de la variable que usaremos para dividir el dataset y el umbral para realizarlo y nos devuelve dos subconjuntos de este dataset."
   ]
  },
  {
   "cell_type": "markdown",
   "metadata": {},
   "source": [
    "Si utilizamos la variable $X_1$ con un umbral de $0.00$ obtenemos:"
   ]
  },
  {
   "cell_type": "code",
<<<<<<< HEAD
   "execution_count": 39,
=======
   "execution_count": 41,
>>>>>>> upstream/master
   "metadata": {},
   "outputs": [],
   "source": [
    "y1, y2 = split(X_train, y_train, 0, 0.00)"
   ]
  },
  {
   "cell_type": "code",
<<<<<<< HEAD
   "execution_count": 40,
=======
   "execution_count": 42,
>>>>>>> upstream/master
   "metadata": {},
   "outputs": [
    {
     "data": {
      "text/plain": [
       "(array([1, 1, 1, 1, 1, 1, 1, 1, 1, 1, 1, 1, 1, 1, 1, 1, 1, 1, 1, 1, 1, 1,\n",
       "        1, 1, 1, 1, 1, 1, 1, 1, 1, 1, 1, 1, 1, 1, 1, 1, 1, 1, 1, 1, 1, 1,\n",
       "        1, 1, 1, 1]),\n",
       " array([ 1,  1, -1,  1, -1, -1,  1, -1,  1, -1,  1, -1,  1, -1, -1, -1,  1,\n",
       "         1, -1,  1,  1,  1,  1,  1,  1, -1,  1,  1, -1,  1,  1,  1,  1,  1,\n",
       "         1, -1,  1, -1, -1, -1,  1,  1, -1,  1, -1,  1, -1, -1,  1,  1,  1,\n",
       "        -1]))"
      ]
     },
<<<<<<< HEAD
     "execution_count": 40,
=======
     "execution_count": 42,
>>>>>>> upstream/master
     "metadata": {},
     "output_type": "execute_result"
    }
   ],
   "source": [
    "y1,y2"
   ]
  },
  {
   "cell_type": "markdown",
   "metadata": {},
   "source": [
    "Siendo la entropía de cada uno de ellos:"
   ]
  },
  {
   "cell_type": "code",
<<<<<<< HEAD
   "execution_count": 41,
=======
   "execution_count": 43,
>>>>>>> upstream/master
   "metadata": {},
   "outputs": [
    {
     "data": {
      "text/plain": [
       "(-0.0, 0.9731560354421095)"
      ]
     },
<<<<<<< HEAD
     "execution_count": 41,
=======
     "execution_count": 43,
>>>>>>> upstream/master
     "metadata": {},
     "output_type": "execute_result"
    }
   ],
   "source": [
    "entropy(y1), entropy(y2)"
   ]
  },
  {
   "cell_type": "code",
<<<<<<< HEAD
   "execution_count": 42,
=======
   "execution_count": 44,
>>>>>>> upstream/master
   "metadata": {},
   "outputs": [
    {
     "data": {
      "text/plain": [
       "0.506041138429897"
      ]
     },
<<<<<<< HEAD
     "execution_count": 42,
=======
     "execution_count": 44,
>>>>>>> upstream/master
     "metadata": {},
     "output_type": "execute_result"
    }
   ],
   "source": [
    "cond_entropy(y1, y2) #entropia condicional"
   ]
  },
  {
   "cell_type": "code",
<<<<<<< HEAD
   "execution_count": 43,
=======
   "execution_count": 45,
>>>>>>> upstream/master
   "metadata": {},
   "outputs": [
    {
     "data": {
      "text/plain": [
       "0.23544160150137672"
      ]
     },
<<<<<<< HEAD
     "execution_count": 43,
=======
     "execution_count": 45,
>>>>>>> upstream/master
     "metadata": {},
     "output_type": "execute_result"
    }
   ],
   "source": [
    "information_gain(y1,y2) #ganancias de información"
   ]
  },
  {
   "cell_type": "markdown",
   "metadata": {},
   "source": [
    "### Buscando la Mejor División\n",
    "\n",
    "Ilustraremos un paso en la construcción del árbol de decisión.\n",
    "\n",
    "Probemos muchos threshold para ambas variables y seleccionemos la mejor división.\n",
    "\n",
    "En este caso buscaremos en una grilla uniforme de valores, pero existen técnicas mejores."
   ]
  },
  {
   "cell_type": "code",
<<<<<<< HEAD
   "execution_count": 44,
=======
   "execution_count": 46,
>>>>>>> upstream/master
   "metadata": {},
   "outputs": [
    {
     "data": {
      "text/plain": [
       "array([-2.5, -2. , -1.5, -1. , -0.5,  0. ,  0.5,  1. ,  1.5,  2. ,  2.5])"
      ]
     },
<<<<<<< HEAD
     "execution_count": 44,
=======
     "execution_count": 46,
>>>>>>> upstream/master
     "metadata": {},
     "output_type": "execute_result"
    }
   ],
   "source": [
    "np.linspace(-2.5, 2.5, 11)"
   ]
  },
  {
   "cell_type": "code",
<<<<<<< HEAD
   "execution_count": 45,
=======
   "execution_count": 47,
>>>>>>> upstream/master
   "metadata": {},
   "outputs": [
    {
     "name": "stdout",
     "output_type": "stream",
     "text": [
      "i=0\tthreshold=-2.50\tig=0.00\n",
      "i=0\tthreshold=-2.00\tig=0.00\n",
      "i=0\tthreshold=-1.50\tig=0.00\n",
      "i=0\tthreshold=-1.00\tig=0.00\n",
      "i=0\tthreshold=-0.50\tig=0.12\n",
      "i=0\tthreshold=+0.00\tig=0.24\n",
      "i=0\tthreshold=+0.50\tig=0.13\n",
      "i=0\tthreshold=+1.00\tig=0.06\n",
      "i=0\tthreshold=+1.50\tig=0.03\n",
      "i=0\tthreshold=+2.00\tig=0.01\n",
      "i=0\tthreshold=+2.50\tig=0.00\n",
      "i=1\tthreshold=-2.50\tig=0.00\n",
      "i=1\tthreshold=-2.00\tig=0.02\n",
      "i=1\tthreshold=-1.50\tig=0.05\n",
      "i=1\tthreshold=-1.00\tig=0.06\n",
      "i=1\tthreshold=-0.50\tig=0.12\n",
      "i=1\tthreshold=+0.00\tig=0.32\n",
      "i=1\tthreshold=+0.50\tig=0.15\n",
      "i=1\tthreshold=+1.00\tig=0.07\n",
      "i=1\tthreshold=+1.50\tig=0.04\n",
      "i=1\tthreshold=+2.00\tig=0.00\n",
      "i=1\tthreshold=+2.50\tig=0.00\n",
      "Mejor división:\n",
      "feature=1, threshold=0.0, ig=0.32\n"
     ]
    }
   ],
   "source": [
    "best_ig = 0 #ilustrativo en la pra´ctica es automatico\n",
    "\n",
    "for i in [0, 1]:\n",
    "    for threshold in np.linspace(-2.5, 2.5, 11):\n",
    "        y1, y2 = split(X_train, y_train, i, threshold)\n",
    "        ig = information_gain(y1, y2)\n",
    "        print(f'i={i}\\tthreshold={threshold:+00.2f}\\tig={ig:.2f}')\n",
    "\n",
    "        if ig >= best_ig:\n",
    "            best_ig = ig\n",
    "            best_feature = i\n",
    "            best_threshold = threshold\n",
    "\n",
    "print('Mejor división:')\n",
    "print(f'feature={best_feature}, threshold={best_threshold}, ig={best_ig:00.2f}')\n"
   ]
  },
  {
   "cell_type": "markdown",
   "metadata": {},
   "source": [
    "Dividamos los datos de acuerdo a esta frontera:"
   ]
  },
  {
   "cell_type": "code",
<<<<<<< HEAD
   "execution_count": 46,
=======
   "execution_count": 48,
>>>>>>> upstream/master
   "metadata": {},
   "outputs": [
    {
     "data": {
      "text/plain": [
       "(1, 0.0)"
      ]
     },
<<<<<<< HEAD
     "execution_count": 46,
=======
     "execution_count": 48,
>>>>>>> upstream/master
     "metadata": {},
     "output_type": "execute_result"
    }
   ],
   "source": [
    "best_feature, best_threshold #partición del conjunto"
   ]
  },
  {
   "cell_type": "code",
<<<<<<< HEAD
   "execution_count": 47,
=======
   "execution_count": 49,
>>>>>>> upstream/master
   "metadata": {},
   "outputs": [],
   "source": [
    "y1, y2 = split(X_train, y_train, best_feature, best_threshold)"
   ]
  },
  {
   "cell_type": "markdown",
   "metadata": {},
   "source": [
    "Con esta división, la entropía baja considerablemente:"
   ]
  },
  {
   "cell_type": "code",
<<<<<<< HEAD
   "execution_count": 48,
=======
   "execution_count": 50,
>>>>>>> upstream/master
   "metadata": {},
   "outputs": [
    {
     "data": {
      "text/plain": [
       "0.7414827399312737"
      ]
     },
<<<<<<< HEAD
     "execution_count": 48,
=======
     "execution_count": 50,
>>>>>>> upstream/master
     "metadata": {},
     "output_type": "execute_result"
    }
   ],
   "source": [
    "entropy(y_train)"
   ]
  },
  {
   "cell_type": "code",
<<<<<<< HEAD
   "execution_count": 49,
=======
   "execution_count": 51,
>>>>>>> upstream/master
   "metadata": {},
   "outputs": [
    {
     "data": {
      "text/plain": [
       "0.42"
      ]
     },
<<<<<<< HEAD
     "execution_count": 49,
=======
     "execution_count": 51,
>>>>>>> upstream/master
     "metadata": {},
     "output_type": "execute_result"
    }
   ],
   "source": [
    "cond_entropy(y1, y2)"
   ]
  },
  {
   "cell_type": "markdown",
   "metadata": {},
   "source": [
    "## Árbol de Decisión con Scikit-learn\n",
    "\n",
    "Aprendamos un árbol de decisión usando scikit-learn. Para ello usaremos la clase [DecisionTreeClassifier](https://scikit-learn.org/stable/modules/generated/sklearn.tree.DecisionTreeClassifier.html):\n"
   ]
  },
  {
   "cell_type": "code",
<<<<<<< HEAD
   "execution_count": 50,
=======
   "execution_count": 52,
>>>>>>> upstream/master
   "metadata": {},
   "outputs": [
    {
     "data": {
      "text/plain": [
       "DecisionTreeClassifier(criterion='entropy', max_depth=2, random_state=0)"
      ]
     },
<<<<<<< HEAD
     "execution_count": 50,
=======
     "execution_count": 52,
>>>>>>> upstream/master
     "metadata": {},
     "output_type": "execute_result"
    }
   ],
   "source": [
    "from sklearn.tree import DecisionTreeClassifier\n",
    "clf = DecisionTreeClassifier(max_depth=2, criterion='entropy', random_state=0)\n",
    "clf.fit(X_train, y_train)"
   ]
  },
  {
   "cell_type": "markdown",
   "metadata": {},
   "source": [
    "Ahora predecimos y evaluamos:"
   ]
  },
  {
   "cell_type": "code",
<<<<<<< HEAD
   "execution_count": 51,
=======
   "execution_count": 53,
>>>>>>> upstream/master
   "metadata": {},
   "outputs": [],
   "source": [
    "y_train_pred = clf.predict(X_train)\n",
    "y_test_pred = clf.predict(X_test)"
   ]
  },
  {
   "cell_type": "code",
<<<<<<< HEAD
   "execution_count": 52,
=======
   "execution_count": 54,
>>>>>>> upstream/master
   "metadata": {},
   "outputs": [
    {
     "name": "stdout",
     "output_type": "stream",
     "text": [
      "Train accuracy: 0.99\n",
      "Test accuracy: 0.97\n"
     ]
    }
   ],
   "source": [
    "from sklearn.metrics import accuracy_score\n",
    "\n",
    "train_acc = accuracy_score(y_train, y_train_pred)\n",
    "test_acc = accuracy_score(y_test, y_test_pred)\n",
    "print(f'Train accuracy: {train_acc:0.2}')\n",
    "print(f'Test accuracy: {test_acc:0.2}')"
   ]
  },
  {
   "cell_type": "markdown",
   "metadata": {},
   "source": [
    "Dibujamos la frontera de decisión:"
   ]
  },
  {
   "cell_type": "code",
<<<<<<< HEAD
   "execution_count": 53,
=======
   "execution_count": 55,
>>>>>>> upstream/master
   "metadata": {},
   "outputs": [
    {
     "data": {
<<<<<<< HEAD
      "image/png": "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\n",
=======
      "image/png": "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\n",
>>>>>>> upstream/master
      "text/plain": [
       "<Figure size 432x288 with 1 Axes>"
      ]
     },
     "metadata": {
      "needs_background": "light"
     },
     "output_type": "display_data"
    }
   ],
   "source": [
    "from utils import plot_decision_boundary\n",
    "\n",
    "plot_decision_boundary(lambda x: clf.predict(x), X_train, y_train)"
   ]
  },
  {
   "cell_type": "markdown",
   "metadata": {},
   "source": [
    "También podemos inspeccionar el árbol:"
   ]
  },
  {
   "cell_type": "code",
   "execution_count": 56,
   "metadata": {},
   "outputs": [
    {
     "data": {
<<<<<<< HEAD
      "image/png": "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\n",
=======
      "image/png": "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\n",
>>>>>>> upstream/master
      "text/plain": [
       "<Figure size 432x288 with 1 Axes>"
      ]
     },
     "metadata": {
      "needs_background": "light"
     },
     "output_type": "display_data"
    }
   ],
   "source": [
    "from sklearn.tree import plot_tree\n",
    "\n",
<<<<<<< HEAD
    "plot_tree(clf, filled=True);"
=======
    "plot_tree(clf,filled=True);"
>>>>>>> upstream/master
   ]
  },
  {
   "cell_type": "code",
<<<<<<< HEAD
   "execution_count": 55,
=======
   "execution_count": 57,
>>>>>>> upstream/master
   "metadata": {},
   "outputs": [
    {
     "data": {
      "text/plain": [
       "0.7414827399312737"
      ]
     },
<<<<<<< HEAD
     "execution_count": 55,
=======
     "execution_count": 57,
>>>>>>> upstream/master
     "metadata": {},
     "output_type": "execute_result"
    }
   ],
   "source": [
    "entropy(y_train)"
   ]
  },
  {
   "cell_type": "markdown",
   "metadata": {},
   "source": [
    "## Ejercicios\n",
    "\n",
    "1. Probar todos los experimentos con un dataset de tipo \"XOR\". ¿Qué sucede al decidir la división en el primer nivel del árbol?"
   ]
  },
  {
   "cell_type": "markdown",
   "metadata": {},
   "source": [
    "## Referencias\n",
    "\n",
    "Scikit-learn:\n",
    "\n",
    "- [accuracy_score](https://scikit-learn.org/stable/modules/generated/sklearn.metrics.accuracy_score.html)\n",
    "- [User Guide: Decision Trees](https://scikit-learn.org/stable/modules/tree.html)\n",
    "- [DecisionTreeClassifier](https://scikit-learn.org/stable/modules/generated/sklearn.tree.DecisionTreeClassifier.html)\n"
   ]
  }
 ],
 "metadata": {
  "kernelspec": {
   "display_name": "Python 3 (ipykernel)",
   "language": "python",
   "name": "python3"
  },
  "language_info": {
   "codemirror_mode": {
    "name": "ipython",
    "version": 3
   },
   "file_extension": ".py",
   "mimetype": "text/x-python",
   "name": "python",
   "nbconvert_exporter": "python",
   "pygments_lexer": "ipython3",
<<<<<<< HEAD
   "version": "3.8.3"
=======
   "version": "3.9.12"
>>>>>>> upstream/master
  }
 },
 "nbformat": 4,
 "nbformat_minor": 4
}
