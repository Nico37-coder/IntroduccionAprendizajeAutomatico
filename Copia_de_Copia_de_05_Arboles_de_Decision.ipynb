{
  "cells": [
    {
      "cell_type": "markdown",
      "metadata": {
        "id": "view-in-github",
        "colab_type": "text"
      },
      "source": [
        "<a href=\"https://colab.research.google.com/github/Nico37-coder/IntroduccionAprendizajeAutomatico/blob/master/Copia_de_Copia_de_05_Arboles_de_Decision.ipynb\" target=\"_parent\"><img src=\"https://colab.research.google.com/assets/colab-badge.svg\" alt=\"Open In Colab\"/></a>"
      ]
    },
    {
      "cell_type": "markdown",
      "metadata": {
        "id": "Wf67Pio3N7Bt"
      },
      "source": [
        "# 5. Árboles de Decisión\n",
        "\n",
        "Veremos árboles de decisión y los conceptos subyacentes asociados.\n",
        "\n",
        "Haremos ejemplos de juguete y con datos generados artificialmente."
      ]
    },
    {
      "cell_type": "code",
      "execution_count": 1,
      "metadata": {
        "id": "LSHfLMt6N7Bx"
      },
      "outputs": [],
      "source": [
        "import numpy as np\n",
        "import matplotlib.pyplot as plt"
      ]
    },
    {
      "cell_type": "markdown",
      "metadata": {
        "id": "ZtBhrCTwN7Bz"
      },
      "source": [
        "## Entropía y Ganancia de Información"
      ]
    },
    {
      "cell_type": "markdown",
      "metadata": {
        "id": "_BfVEBriN7Bz"
      },
      "source": [
        "### Entropía\n",
        "\n",
        "Definamos entropía para una distribución probabilista:\n",
        "\n",
        "$$H(Y) = - \\sum_{i=1}^k P(Y = y_i) log_2 P(Y = y_i)$$"
      ]
    },
    {
      "cell_type": "code",
      "execution_count": 2,
      "metadata": {
        "id": "cQo0QmIiN7B0"
      },
      "outputs": [],
      "source": [
        "def entropy(probs):\n",
        "    return - np.sum(probs * np.log2(probs))"
      ]
    },
    {
      "cell_type": "markdown",
      "metadata": {
        "id": "U_yBx4ErN7B0"
      },
      "source": [
        "Veamos posibles entropías para el problema de tirar una moneda adulterada:"
      ]
    },
    {
      "cell_type": "code",
      "execution_count": 3,
      "metadata": {
        "id": "n7xNj_owN7B1",
        "outputId": "34a36a17-0b38-49c7-82fd-ed52109bcb05",
        "colab": {
          "base_uri": "https://localhost:8080/"
        }
      },
      "outputs": [
        {
          "output_type": "execute_result",
          "data": {
            "text/plain": [
              "1.0"
            ]
          },
          "metadata": {},
          "execution_count": 3
        }
      ],
      "source": [
        "entropy(np.array([0.5, 0.5]))"
      ]
    },
    {
      "cell_type": "code",
      "execution_count": 4,
      "metadata": {
        "id": "7_NanJRbN7B2",
        "outputId": "35e91dff-4a85-4901-f099-7b38fce1ca9c",
        "colab": {
          "base_uri": "https://localhost:8080/"
        }
      },
      "outputs": [
        {
          "output_type": "execute_result",
          "data": {
            "text/plain": [
              "0.08079313589591118"
            ]
          },
          "metadata": {},
          "execution_count": 4
        }
      ],
      "source": [
        "entropy(np.array([0.01, 0.99]))"
      ]
    },
    {
      "cell_type": "code",
      "execution_count": 5,
      "metadata": {
        "id": "5L-fBXyBN7B3",
        "outputId": "82d9a901-874e-463a-8a2d-d8ca817e15e5",
        "colab": {
          "base_uri": "https://localhost:8080/",
          "height": 280
        }
      },
      "outputs": [
        {
          "output_type": "display_data",
          "data": {
            "text/plain": [
              "<Figure size 432x288 with 1 Axes>"
            ],
            "image/png": "[encoded data removed]"
          },
          "metadata": {
            "needs_background": "light"
          }
        }
      ],
      "source": [
        "X = np.linspace(0, 1)[1:-1]\n",
        "plt.plot(X, [entropy([x, 1-x]) for x in X])\n",
        "plt.xlabel('P(Y=y_1)')\n",
        "plt.ylabel('entropy')\n",
        "plt.show()"
      ]
    },
    {
      "cell_type": "markdown",
      "metadata": {
        "id": "KP1sSahlN7B4"
      },
      "source": [
        "En el caso de dos monedas, tenemos cuatro combinaciones posibles, siendo $0.25$ la probabilidad de cada evento. Ejemplos:"
      ]
    },
    {
      "cell_type": "code",
      "execution_count": 6,
      "metadata": {
        "id": "1FuK5MV5N7B5",
        "outputId": "5e3b65c2-fb88-42d7-9c10-b83409fe0a5c",
        "colab": {
          "base_uri": "https://localhost:8080/"
        }
      },
      "outputs": [
        {
          "output_type": "execute_result",
          "data": {
            "text/plain": [
              "2.0"
            ]
          },
          "metadata": {},
          "execution_count": 6
        }
      ],
      "source": [
        "entropy(np.array([0.25, 0.25, 0.25, 0.25]))"
      ]
    },
    {
      "cell_type": "markdown",
      "metadata": {
        "id": "RPIzd1A1N7B6"
      },
      "source": [
        "Pero si las monedas estan sesgadas tendríamos: "
      ]
    },
    {
      "cell_type": "code",
      "execution_count": 7,
      "metadata": {
        "id": "33Ov3A0ON7B6",
        "outputId": "63da8b13-e03b-4172-8091-5435580476ca",
        "colab": {
          "base_uri": "https://localhost:8080/"
        }
      },
      "outputs": [
        {
          "output_type": "execute_result",
          "data": {
            "text/plain": [
              "1.1414405425418206"
            ]
          },
          "metadata": {},
          "execution_count": 7
        }
      ],
      "source": [
        "entropy(np.array([0.49, 0.49, 0.01, 0.01]))"
      ]
    },
    {
      "cell_type": "markdown",
      "metadata": {
        "id": "CY79i2pdN7B6"
      },
      "source": [
        "### Entropía de un Dataset\n",
        "\n",
        "Un dataset define una distribución empírica. La entropía del dataset es entones la entropía de la distribución asociada. Definamos el cálculo de la distribución, y luego redefinamos entropía:"
      ]
    },
    {
      "cell_type": "code",
      "execution_count": 8,
      "metadata": {
        "id": "yDGb0qo2N7B7"
      },
      "outputs": [],
      "source": [
        "def probs(y):\n",
        "    _, counts = np.unique(y, return_counts=True)\n",
        "    probs = counts / counts.sum()\n",
        "    return probs"
      ]
    },
    {
      "cell_type": "markdown",
      "metadata": {
        "id": "Nl8RIIEzN7B7"
      },
      "source": [
        "Definimos un dataset de 6 elementos con dos atributos $X_1$ y $X_2$ con dos tipos de etiquetas: \n",
        "\n",
        "$False: -1$ y $True: 1$. \n",
        "<img src=\"https://github.com/DiploDatos/IntroduccionAprendizajeAutomatico/blob/master/img/tablaDataset2.png?raw=1\" width=\"100\"/>\n",
        "Siendo las etiquetas resultantes del mismo: \n"
      ]
    },
    {
      "cell_type": "code",
      "execution_count": 9,
      "metadata": {
        "id": "e25ZfF_qN7B7"
      },
      "outputs": [],
      "source": [
        "y = np.array([1, 1, 1, 1, 1, -1])"
      ]
    },
    {
      "cell_type": "markdown",
      "metadata": {
        "id": "heSk8BR7N7B7"
      },
      "source": [
        "Mediante la función \"probs\" podemos calcular la probilidad de cada clase en este dataset: "
      ]
    },
    {
      "cell_type": "code",
      "execution_count": 10,
      "metadata": {
        "id": "ikLKlRomN7B8",
        "outputId": "3fef5fb0-80c4-4fea-9365-36614f56913e",
        "colab": {
          "base_uri": "https://localhost:8080/"
        }
      },
      "outputs": [
        {
          "output_type": "execute_result",
          "data": {
            "text/plain": [
              "array([0.16666667, 0.83333333])"
            ]
          },
          "metadata": {},
          "execution_count": 10
        }
      ],
      "source": [
        "probs(y)"
      ]
    },
    {
      "cell_type": "markdown",
      "metadata": {
        "id": "bpAlG5S2N7B8"
      },
      "source": [
        "Esos resultados nos informan que hay un desbalance en el mismo (hay más probabilidad de una de las clases).\n",
        "\n",
        "Ahora obtengamos la entropía del dataset:"
      ]
    },
    {
      "cell_type": "code",
      "execution_count": 11,
      "metadata": {
        "id": "F-3pVDO2N7B8"
      },
      "outputs": [],
      "source": [
        "def entropy(y):\n",
        "    p = probs(y)\n",
        "    return - np.sum(p * np.log2(p))"
      ]
    },
    {
      "cell_type": "code",
      "execution_count": 12,
      "metadata": {
        "id": "l8nooC6aN7B8",
        "outputId": "85957584-2489-4c2b-d16a-784e39e9c39c",
        "colab": {
          "base_uri": "https://localhost:8080/"
        }
      },
      "outputs": [
        {
          "output_type": "execute_result",
          "data": {
            "text/plain": [
              "0.6500224216483541"
            ]
          },
          "metadata": {},
          "execution_count": 12
        }
      ],
      "source": [
        "entropy(y)"
      ]
    },
    {
      "cell_type": "markdown",
      "metadata": {
        "id": "Hy8PECvaN7B8"
      },
      "source": [
        "### Entropía Condicional\n",
        "\n",
        "Definamos entropía condicional:\n",
        "\n",
        "$$H(Y|X) = - \\sum_{j=1}^v P(X = x_j) \\sum_{i=1}^k P(Y = y_i | X = x_j) log_2 P(Y = y_i | X = x_j)$$\n",
        "\n",
        "Equivalentemente, \n",
        "\n",
        "$$H(Y|X) = \\sum_{j=1}^v P(X = x_j) H(Y|X = x_j)$$\n",
        "\n",
        "Tomaremos $X$ binaria ($v=2$), por lo que la entropía condicional tendrá sólo dos términos.\n"
      ]
    },
    {
      "cell_type": "code",
      "execution_count": 13,
      "metadata": {
        "id": "ucfM_DRPN7B9"
      },
      "outputs": [],
      "source": [
        "def cond_entropy(y1, y2):\n",
        "    size = y1.shape[0] + y2.shape[0]\n",
        "    return y1.shape[0] / size * entropy(y1) + y2.shape[0] / size * entropy(y2) "
      ]
    },
    {
      "cell_type": "markdown",
      "metadata": {
        "id": "S_YKWY0nN7B9"
      },
      "source": [
        "Esta función toma como argumento los dos subconjuntos de datos que se forman al considerar una de las variables como condición."
      ]
    },
    {
      "cell_type": "markdown",
      "metadata": {
        "id": "GEksbvyGN7B9"
      },
      "source": [
        "Si analizámos la varibale $Y$ donde la $X_1$ es $True$, tenemos: "
      ]
    },
    {
      "cell_type": "code",
      "execution_count": 14,
      "metadata": {
        "id": "p7SjHq8XN7B9"
      },
      "outputs": [],
      "source": [
        "y_X1true = np.array([1,1,1,1]) #X1 = True"
      ]
    },
    {
      "cell_type": "markdown",
      "metadata": {
        "id": "Xq40yFrFN7B9"
      },
      "source": [
        "de igual manera, la varibale $Y$  donde la $X_1$ es $False$, tenemos: "
      ]
    },
    {
      "cell_type": "code",
      "execution_count": 15,
      "metadata": {
        "id": "rXjTw9nxN7B9"
      },
      "outputs": [],
      "source": [
        "y_X1false =  np.array([1,-1]) #X1 = False"
      ]
    },
    {
      "cell_type": "markdown",
      "metadata": {
        "id": "CljiKcqCN7B-"
      },
      "source": [
        "Haciendo uso de la función \"cond_entropy\" podemos obtener la entropía condicional de la variable $Y$ dado $X_1$"
      ]
    },
    {
      "cell_type": "code",
      "execution_count": 16,
      "metadata": {
        "id": "mR3qB450N7B-",
        "outputId": "4b0c6438-63ba-47b6-f8f8-b230dffee569",
        "colab": {
          "base_uri": "https://localhost:8080/"
        }
      },
      "outputs": [
        {
          "output_type": "execute_result",
          "data": {
            "text/plain": [
              "0.3333333333333333"
            ]
          },
          "metadata": {},
          "execution_count": 16
        }
      ],
      "source": [
        "cond_entropy(y_X1true,y_X1false)  # x1"
      ]
    },
    {
      "cell_type": "markdown",
      "metadata": {
        "id": "LbNhkbo7N7B-"
      },
      "source": [
        "De igual manera podemos calcular la entropía condicional dado la variable $X_2$"
      ]
    },
    {
      "cell_type": "code",
      "execution_count": 17,
      "metadata": {
        "id": "O2xYej0FN7B-",
        "outputId": "6a11515c-2b34-47a5-e670-898a62c9c43a",
        "colab": {
          "base_uri": "https://localhost:8080/"
        }
      },
      "outputs": [
        {
          "output_type": "execute_result",
          "data": {
            "text/plain": [
              "0.4591479170272448"
            ]
          },
          "metadata": {},
          "execution_count": 17
        }
      ],
      "source": [
        "y_X2true = np.array([1,1,1]) #X2 = True\n",
        "y_X2false = np.array([1,1,-1]) #X2 = False\n",
        "cond_entropy(y_X2true, y_X2false)  # x2"
      ]
    },
    {
      "cell_type": "markdown",
      "metadata": {
        "id": "zEOjOmjjN7B-"
      },
      "source": [
        "### Ganancia de Información\n",
        "\n",
        "La ganancia de información será simplemente la diferencia entre entropía y entropía condicional:"
      ]
    },
    {
      "cell_type": "code",
      "execution_count": 18,
      "metadata": {
        "id": "A43YFgXbN7B-"
      },
      "outputs": [],
      "source": [
        "def information_gain(y1, y2):\n",
        "    y = np.concatenate((y1,y2))\n",
        "    return entropy(y) - cond_entropy(y1,y2)"
      ]
    },
    {
      "cell_type": "markdown",
      "metadata": {
        "id": "Q57d8j8hN7B_"
      },
      "source": [
        "Podemos calcular la ganancia de información que implicaría dividir el dataset tomando como $X_1$ como nodo referencia. Para ello hacemos uso de la función \"information_gain\" que toma los dos subconjuntos de etiquetas que se formarían al tomar una u otra variable como referencia. "
      ]
    },
    {
      "cell_type": "markdown",
      "metadata": {
        "id": "-Lj941VYN7B_"
      },
      "source": [
        "Para el caso de $X_1$: "
      ]
    },
    {
      "cell_type": "code",
      "execution_count": 19,
      "metadata": {
        "id": "aDjx_rqMN7B_",
        "outputId": "7e0d5e90-0362-45af-d913-d8504397a109",
        "colab": {
          "base_uri": "https://localhost:8080/"
        }
      },
      "outputs": [
        {
          "output_type": "execute_result",
          "data": {
            "text/plain": [
              "0.3166890883150208"
            ]
          },
          "metadata": {},
          "execution_count": 19
        }
      ],
      "source": [
        "information_gain(y_X1true, y_X1false)  # x1"
      ]
    },
    {
      "cell_type": "markdown",
      "metadata": {
        "id": "gj6hI1LFN7B_"
      },
      "source": [
        "Para el caso de $X_2$: "
      ]
    },
    {
      "cell_type": "code",
      "execution_count": 20,
      "metadata": {
        "id": "PHj_y6OcN7CA",
        "outputId": "122e975a-bd82-4df6-dea5-60d83872d18e",
        "colab": {
          "base_uri": "https://localhost:8080/"
        }
      },
      "outputs": [
        {
          "output_type": "execute_result",
          "data": {
            "text/plain": [
              "0.19087450462110933"
            ]
          },
          "metadata": {},
          "execution_count": 20
        }
      ],
      "source": [
        "information_gain(y_X2true, y_X2false)  # x2"
      ]
    },
    {
      "cell_type": "markdown",
      "metadata": {
        "id": "209XNVhmN7CA"
      },
      "source": [
        "## Datos Sintéticos No Linealmente Separables\n",
        "\n",
        "Haremos algunos experimentos con datos generados sintéticamente. Estos datos serán no linealmente separables.\n",
        "\n",
        "Ejemplos típicos de datos no linealmente separables son los de tipo \"OR\", \"AND\" y \"XOR\". Usaremos datos de tipo \"OR\" para este ejemplo.\n",
        "\n"
      ]
    },
    {
      "cell_type": "code",
      "execution_count": 21,
      "metadata": {
        "id": "iwlQuWSQN7CA"
      },
      "outputs": [],
      "source": [
        "size = 200"
      ]
    },
    {
      "cell_type": "code",
      "execution_count": 22,
      "metadata": {
        "id": "I9I1_Z9DN7CA"
      },
      "outputs": [],
      "source": [
        "np.random.seed(0)\n",
        "X = np.random.randn(size, 2)\n",
        "y_true = np.logical_or(X[:, 0] > 0, X[:, 1] > 0)    # datos \"OR\"\n",
        "#y_true = np.logical_xor(X[:, 0] > 0, X[:, 1] > 0)  # datos \"XOR\"\n",
        "#y_true = np.logical_and(X[:, 0] > 0, X[:, 1] > 0)  # datos \"AND\"\n",
        "y_true = y_true.astype(int)\n",
        "y_true[y_true == 0] = -1"
      ]
    },
    {
      "cell_type": "code",
      "execution_count": 23,
      "metadata": {
        "id": "uMxCzuesN7CA",
        "outputId": "0597f20b-f8fc-45bf-b5a0-feb35b01e2ff",
        "colab": {
          "base_uri": "https://localhost:8080/",
          "height": 265
        }
      },
      "outputs": [
        {
          "output_type": "display_data",
          "data": {
            "text/plain": [
              "<Figure size 432x288 with 1 Axes>"
            ],
            "image/png": "[encoded data removed]"
          },
          "metadata": {
            "needs_background": "light"
          }
        }
      ],
      "source": [
        "plt.scatter(X[y_true==1, 0], X[y_true==1, 1], color=\"royalblue\", label=\"1\")\n",
        "plt.scatter(X[y_true==-1, 0], X[y_true==-1, 1], color=\"red\", label=\"-1\")\n",
        "plt.grid()\n",
        "plt.legend()\n",
        "plt.show()"
      ]
    },
    {
      "cell_type": "markdown",
      "metadata": {
        "id": "vN0UkfLXN7CA"
      },
      "source": [
        "### División en Entrenamiento y Evaluación\n",
        "\n",
        "Separemos la mitad para entrenamiento y la otra para evaluación."
      ]
    },
    {
      "cell_type": "code",
      "execution_count": 24,
      "metadata": {
        "id": "IC833taMN7CA"
      },
      "outputs": [],
      "source": [
        "train_size = 100\n",
        "test_size = size - train_size\n",
        "X_train, X_test = X[:train_size], X[train_size:]\n",
        "y_train, y_test = y_true[:train_size], y_true[train_size:]"
      ]
    },
    {
      "cell_type": "code",
      "execution_count": 25,
      "metadata": {
        "id": "gAK9fuHSN7CB",
        "outputId": "12949a51-fa6f-4429-e966-9dcc9ecd2267",
        "colab": {
          "base_uri": "https://localhost:8080/"
        }
      },
      "outputs": [
        {
          "output_type": "execute_result",
          "data": {
            "text/plain": [
              "((100, 2), (100, 2))"
            ]
          },
          "metadata": {},
          "execution_count": 25
        }
      ],
      "source": [
        "X_train.shape, X_test.shape"
      ]
    },
    {
      "cell_type": "markdown",
      "metadata": {
        "id": "b68K5z7tN7CB"
      },
      "source": [
        "### Clasificación Lineal\n",
        "\n",
        "Veamos qué tan mal anda un clasificador lineal sobre estos datos."
      ]
    },
    {
      "cell_type": "code",
      "execution_count": 26,
      "metadata": {
        "id": "5Tex8u8UN7CB"
      },
      "outputs": [],
      "source": [
        "from sklearn.linear_model import LogisticRegression\n",
        "\n",
        "model = LogisticRegression()\n",
        "model.fit(X_train, y_train);"
      ]
    },
    {
      "cell_type": "code",
      "execution_count": 27,
      "metadata": {
        "id": "cgZdmHkcN7CB",
        "outputId": "3bc8f6d3-c4f9-452d-8ea6-c7294b36cebb",
        "colab": {
          "base_uri": "https://localhost:8080/",
          "height": 339
        }
      },
      "outputs": [
        {
          "output_type": "error",
          "ename": "ModuleNotFoundError",
          "evalue": "ignored",
          "traceback": [
            "\u001b[0;31m---------------------------------------------------------------------------\u001b[0m",
            "\u001b[0;31mModuleNotFoundError\u001b[0m                       Traceback (most recent call last)",
            "\u001b[0;32m<ipython-input-27-77ff9d203213>\u001b[0m in \u001b[0;36m<module>\u001b[0;34m()\u001b[0m\n\u001b[0;32m----> 1\u001b[0;31m \u001b[0;32mfrom\u001b[0m \u001b[0mutils\u001b[0m \u001b[0;32mimport\u001b[0m \u001b[0mplot_decision_boundary\u001b[0m\u001b[0;34m\u001b[0m\u001b[0;34m\u001b[0m\u001b[0m\n\u001b[0m\u001b[1;32m      2\u001b[0m \u001b[0;34m\u001b[0m\u001b[0m\n\u001b[1;32m      3\u001b[0m \u001b[0mplot_decision_boundary\u001b[0m\u001b[0;34m(\u001b[0m\u001b[0;32mlambda\u001b[0m \u001b[0mx\u001b[0m\u001b[0;34m:\u001b[0m \u001b[0mmodel\u001b[0m\u001b[0;34m.\u001b[0m\u001b[0mpredict\u001b[0m\u001b[0;34m(\u001b[0m\u001b[0mx\u001b[0m\u001b[0;34m)\u001b[0m\u001b[0;34m,\u001b[0m \u001b[0mX\u001b[0m\u001b[0;34m,\u001b[0m \u001b[0my_true\u001b[0m\u001b[0;34m)\u001b[0m\u001b[0;34m\u001b[0m\u001b[0;34m\u001b[0m\u001b[0m\n",
            "\u001b[0;31mModuleNotFoundError\u001b[0m: No module named 'utils'",
            "",
            "\u001b[0;31m---------------------------------------------------------------------------\u001b[0;32m\nNOTE: If your import is failing due to a missing package, you can\nmanually install dependencies using either !pip or !apt.\n\nTo view examples of installing some common dependencies, click the\n\"Open Examples\" button below.\n\u001b[0;31m---------------------------------------------------------------------------\u001b[0m\n"
          ],
          "errorDetails": {
            "actions": [
              {
                "action": "open_url",
                "actionText": "Open Examples",
                "url": "/notebooks/snippets/importing_libraries.ipynb"
              }
            ]
          }
        }
      ],
      "source": [
        "from utils import plot_decision_boundary\n",
        "\n",
        "plot_decision_boundary(lambda x: model.predict(x), X, y_true)"
      ]
    },
    {
      "cell_type": "markdown",
      "metadata": {
        "id": "PsMNdB7jN7CB"
      },
      "source": [
        "Calculemos la calidad de la predicción en entrenamiento y evaluación:"
      ]
    },
    {
      "cell_type": "code",
      "execution_count": null,
      "metadata": {
        "id": "PoPtmviVN7CB"
      },
      "outputs": [],
      "source": [
        "y_train_pred = model.predict(X_train)\n",
        "y_test_pred = model.predict(X_test)"
      ]
    },
    {
      "cell_type": "code",
      "execution_count": null,
      "metadata": {
        "id": "CZr5XA7SN7CB"
      },
      "outputs": [],
      "source": [
        "from sklearn.metrics import accuracy_score\n",
        "\n",
        "train_acc = accuracy_score(y_train, y_train_pred)\n",
        "test_acc = accuracy_score(y_test, y_test_pred)\n",
        "print(f'Train accuracy: {train_acc:0.2}')\n",
        "print(f'Test accuracy: {test_acc:0.2}')"
      ]
    },
    {
      "cell_type": "markdown",
      "metadata": {
        "id": "iyk3qp-WN7CC"
      },
      "source": [
        "### Nota al Margen: Induciendo Separabilidad Lineal\n",
        "\n",
        "Muchas veces se pueden convertir datos no linealmente separables en datos separables (o casi) mediante la introducción de nuevos atributos que combinan los atributos existentes.\n",
        "Un ejemplo de estos son los atributos polinomiales.\n",
        "\n",
        "Aquí lo haremos con datos \"OR\", pero la diferencia es mucho más notable con datos de tipo \"XOR\"."
      ]
    },
    {
      "cell_type": "code",
      "execution_count": null,
      "metadata": {
        "id": "Y3dD-GVPN7CC"
      },
      "outputs": [],
      "source": [
        "from sklearn.preprocessing import PolynomialFeatures\n",
        "from sklearn.pipeline import make_pipeline\n",
        "\n",
        "pre = PolynomialFeatures(\n",
        "    degree=2,\n",
        "    interaction_only=True,  # para usar solo x0*x1, no x0*x0 ni x1*x1\n",
        "    include_bias=False)\n",
        "X_train2 = pre.fit_transform(X_train)"
      ]
    },
    {
      "cell_type": "code",
      "execution_count": null,
      "metadata": {
        "id": "Nc0RjEw8N7CC"
      },
      "outputs": [],
      "source": [
        "X_train.shape, X_train2.shape  # se agregó el feature x0*x1"
      ]
    },
    {
      "cell_type": "markdown",
      "metadata": {
        "id": "lzPVamVON7CC"
      },
      "source": [
        "Grafiquemos:"
      ]
    },
    {
      "cell_type": "code",
      "execution_count": null,
      "metadata": {
        "id": "A17gKJZBN7CC"
      },
      "outputs": [],
      "source": [
        "plt.scatter(X_train2[y_train==1, 1], X_train2[y_train==1, 2], color=\"dodgerblue\", edgecolors='k', label=\"1\")\n",
        "plt.scatter(X_train2[y_train==-1, 1], X_train2[y_train==-1, 2], color=\"tomato\", edgecolors='k', label=\"-1\")\n",
        "plt.grid()\n",
        "plt.legend()\n",
        "plt.show()"
      ]
    },
    {
      "cell_type": "code",
      "execution_count": null,
      "metadata": {
        "id": "pOpcHY93N7CC"
      },
      "outputs": [],
      "source": [
        "from sklearn.preprocessing import PolynomialFeatures\n",
        "from sklearn.pipeline import make_pipeline\n",
        "\n",
        "model = make_pipeline(\n",
        "    PolynomialFeatures(degree=2, interaction_only=True, include_bias=False),\n",
        "    LogisticRegression()\n",
        ")\n",
        "model.fit(X_train, y_train);"
      ]
    },
    {
      "cell_type": "code",
      "execution_count": null,
      "metadata": {
        "id": "IZXYS21cN7CD"
      },
      "outputs": [],
      "source": [
        "y_train_pred = model.predict(X_train)\n",
        "y_test_pred = model.predict(X_test)"
      ]
    },
    {
      "cell_type": "code",
      "execution_count": null,
      "metadata": {
        "id": "sSHUC43pN7CD"
      },
      "outputs": [],
      "source": [
        "from sklearn.metrics import accuracy_score\n",
        "\n",
        "train_acc = accuracy_score(y_train, y_train_pred)\n",
        "test_acc = accuracy_score(y_test, y_test_pred)\n",
        "print(f'Train accuracy: {train_acc:0.2}')\n",
        "print(f'Test accuracy: {test_acc:0.2}')"
      ]
    },
    {
      "cell_type": "code",
      "execution_count": null,
      "metadata": {
        "id": "ycON33tGN7CD"
      },
      "outputs": [],
      "source": [
        "from utils import plot_decision_boundary\n",
        "\n",
        "plot_decision_boundary(lambda x: model.predict(x), X, y_true)"
      ]
    },
    {
      "cell_type": "markdown",
      "metadata": {
        "id": "pCHd2yRMN7CD"
      },
      "source": [
        "### Entropía y Valores Reales\n",
        "\n",
        "Calculemos la entropía inicial, y veamos cómo condicionar la entropía sobre variables reales (i.e. no categóricas)"
      ]
    },
    {
      "cell_type": "code",
      "execution_count": null,
      "metadata": {
        "id": "DFOSM6EJN7CD"
      },
      "outputs": [],
      "source": [
        "y_train"
      ]
    },
    {
      "cell_type": "markdown",
      "metadata": {
        "id": "I7_VKbRvN7CD"
      },
      "source": [
        "Podemos calcular la probabilidad de cada clase:"
      ]
    },
    {
      "cell_type": "code",
      "execution_count": null,
      "metadata": {
        "id": "t9ieheyhN7CE"
      },
      "outputs": [],
      "source": [
        "probs(y_train)"
      ]
    },
    {
      "cell_type": "markdown",
      "metadata": {
        "id": "puxGUFpaN7CE"
      },
      "source": [
        "y la entropía:"
      ]
    },
    {
      "cell_type": "code",
      "execution_count": null,
      "metadata": {
        "id": "gLk-IO2yN7CE"
      },
      "outputs": [],
      "source": [
        "entropy(y_train)"
      ]
    },
    {
      "cell_type": "markdown",
      "metadata": {
        "id": "HizN0YxIN7CE"
      },
      "source": [
        "Para hacer una división sobre una variable real usaremos un valor \"threshold\" (umbral):"
      ]
    },
    {
      "cell_type": "code",
      "execution_count": null,
      "metadata": {
        "id": "_7Se2KQjN7CE"
      },
      "outputs": [],
      "source": [
        "def split(X, y, i, threshold):\n",
        "    y1 = y[X[:, i] > threshold]\n",
        "    y2 = y[X[:, i] <= threshold]\n",
        "    return y1, y2"
      ]
    },
    {
      "cell_type": "markdown",
      "metadata": {
        "id": "BHpZElxBN7CE"
      },
      "source": [
        "definimos la \"split\" que toma como argumento el dataset con sus etiquetas, el indice de la variable que usaremos para dividir el dataset y el umbral para realizarlo y nos devuelve dos subconjuntos de este dataset."
      ]
    },
    {
      "cell_type": "markdown",
      "metadata": {
        "id": "EfQdGUIDN7CE"
      },
      "source": [
        "Si utilizamos la variable $X_1$ con un umbral de $0.00$ obtenemos:"
      ]
    },
    {
      "cell_type": "code",
      "execution_count": null,
      "metadata": {
        "id": "0lsvaWHdN7CE"
      },
      "outputs": [],
      "source": [
        "y1, y2 = split(X_train, y_train, 0, 0.00)"
      ]
    },
    {
      "cell_type": "code",
      "execution_count": null,
      "metadata": {
        "id": "OIThZJ0iN7CE"
      },
      "outputs": [],
      "source": [
        "y1,y2"
      ]
    },
    {
      "cell_type": "markdown",
      "metadata": {
        "id": "16GcAb9lN7CF"
      },
      "source": [
        "Siendo la entropía de cada uno de ellos:"
      ]
    },
    {
      "cell_type": "code",
      "execution_count": null,
      "metadata": {
        "id": "DQXCengGN7CF"
      },
      "outputs": [],
      "source": [
        "entropy(y1), entropy(y2)"
      ]
    },
    {
      "cell_type": "code",
      "execution_count": null,
      "metadata": {
        "id": "2vIu9kViN7CF"
      },
      "outputs": [],
      "source": [
        "cond_entropy(y1, y2)"
      ]
    },
    {
      "cell_type": "code",
      "execution_count": null,
      "metadata": {
        "id": "H1OhxKQJN7CF"
      },
      "outputs": [],
      "source": [
        "information_gain(y1,y2)"
      ]
    },
    {
      "cell_type": "markdown",
      "metadata": {
        "id": "0-yzrdB7N7CF"
      },
      "source": [
        "### Buscando la Mejor División\n",
        "\n",
        "Ilustraremos un paso en la construcción del árbol de decisión.\n",
        "\n",
        "Probemos muchos threshold para ambas variables y seleccionemos la mejor división.\n",
        "\n",
        "En este caso buscaremos en una grilla uniforme de valores, pero existen técnicas mejores."
      ]
    },
    {
      "cell_type": "code",
      "execution_count": null,
      "metadata": {
        "id": "iEQahfn9N7CF"
      },
      "outputs": [],
      "source": [
        "np.linspace(-2.5, 2.5, 11)"
      ]
    },
    {
      "cell_type": "code",
      "execution_count": null,
      "metadata": {
        "id": "jiz3rcwQN7CF"
      },
      "outputs": [],
      "source": [
        "best_ig = 0\n",
        "\n",
        "for i in [0, 1]:\n",
        "    for threshold in np.linspace(-2.5, 2.5, 11):\n",
        "        y1, y2 = split(X_train, y_train, i, threshold)\n",
        "        ig = information_gain(y1, y2)\n",
        "        print(f'i={i}\\tthreshold={threshold:+00.2f}\\tig={ig:.2f}')\n",
        "\n",
        "        if ig >= best_ig:\n",
        "            best_ig = ig\n",
        "            best_feature = i\n",
        "            best_threshold = threshold\n",
        "\n",
        "print('Mejor división:')\n",
        "print(f'feature={best_feature}, threshold={best_threshold}, ig={best_ig:00.2f}')\n"
      ]
    },
    {
      "cell_type": "markdown",
      "metadata": {
        "id": "R8lcXZq_N7CF"
      },
      "source": [
        "Dividamos los datos de acuerdo a esta frontera:"
      ]
    },
    {
      "cell_type": "code",
      "execution_count": null,
      "metadata": {
        "id": "w60R4ucoN7CG"
      },
      "outputs": [],
      "source": [
        "best_feature, best_threshold"
      ]
    },
    {
      "cell_type": "code",
      "execution_count": null,
      "metadata": {
        "id": "6D9u_T2cN7CG"
      },
      "outputs": [],
      "source": [
        "y1, y2 = split(X_train, y_train, best_feature, best_threshold)"
      ]
    },
    {
      "cell_type": "markdown",
      "metadata": {
        "id": "_i4dXiWXN7CG"
      },
      "source": [
        "Con esta división, la entropía baja considerablemente:"
      ]
    },
    {
      "cell_type": "code",
      "execution_count": null,
      "metadata": {
        "id": "VtdOWP9kN7CG"
      },
      "outputs": [],
      "source": [
        "entropy(y_train)"
      ]
    },
    {
      "cell_type": "code",
      "execution_count": null,
      "metadata": {
        "id": "z7xGiVKkN7CG"
      },
      "outputs": [],
      "source": [
        "cond_entropy(y1, y2)"
      ]
    },
    {
      "cell_type": "markdown",
      "metadata": {
        "id": "X8gFyDN1N7CG"
      },
      "source": [
        "## Árbol de Decisión con Scikit-learn\n",
        "\n",
        "Aprendamos un árbol de decisión usando scikit-learn. Para ello usaremos la clase [DecisionTreeClassifier](https://scikit-learn.org/stable/modules/generated/sklearn.tree.DecisionTreeClassifier.html):\n"
      ]
    },
    {
      "cell_type": "code",
      "execution_count": null,
      "metadata": {
        "id": "mFvj6j7VN7CG"
      },
      "outputs": [],
      "source": [
        "from sklearn.tree import DecisionTreeClassifier\n",
        "clf = DecisionTreeClassifier(max_depth=2, criterion='entropy', random_state=0)\n",
        "clf.fit(X_train, y_train)"
      ]
    },
    {
      "cell_type": "markdown",
      "metadata": {
        "id": "u3YXelxVN7CG"
      },
      "source": [
        "Ahora predecimos y evaluamos:"
      ]
    },
    {
      "cell_type": "code",
      "execution_count": null,
      "metadata": {
        "id": "JsCsyjcRN7CH"
      },
      "outputs": [],
      "source": [
        "y_train_pred = clf.predict(X_train)\n",
        "y_test_pred = clf.predict(X_test)"
      ]
    },
    {
      "cell_type": "code",
      "execution_count": null,
      "metadata": {
        "id": "pQ3yIDAZN7CH"
      },
      "outputs": [],
      "source": [
        "from sklearn.metrics import accuracy_score\n",
        "\n",
        "train_acc = accuracy_score(y_train, y_train_pred)\n",
        "test_acc = accuracy_score(y_test, y_test_pred)\n",
        "print(f'Train accuracy: {train_acc:0.2}')\n",
        "print(f'Test accuracy: {test_acc:0.2}')"
      ]
    },
    {
      "cell_type": "markdown",
      "metadata": {
        "id": "QuX2plyLN7CH"
      },
      "source": [
        "Dibujamos la frontera de decisión:"
      ]
    },
    {
      "cell_type": "code",
      "execution_count": null,
      "metadata": {
        "id": "odRXJNYjN7CH"
      },
      "outputs": [],
      "source": [
        "from utils import plot_decision_boundary\n",
        "\n",
        "plot_decision_boundary(lambda x: clf.predict(x), X_train, y_train)"
      ]
    },
    {
      "cell_type": "markdown",
      "metadata": {
        "id": "Xa1ZKx8IN7CK"
      },
      "source": [
        "También podemos inspeccionar el árbol:"
      ]
    },
    {
      "cell_type": "code",
      "execution_count": null,
      "metadata": {
        "id": "I1BJ7GBXN7CK"
      },
      "outputs": [],
      "source": [
        "from sklearn.tree import plot_tree\n",
        "\n",
        "plot_tree(clf,filled=True);"
      ]
    },
    {
      "cell_type": "code",
      "execution_count": null,
      "metadata": {
        "id": "IvQAWqFzN7CK"
      },
      "outputs": [],
      "source": [
        "entropy(y_train)"
      ]
    },
    {
      "cell_type": "markdown",
      "metadata": {
        "id": "-PWc3jVmN7CK"
      },
      "source": [
        "## Ejercicios\n",
        "\n",
        "1. Probar todos los experimentos con un dataset de tipo \"XOR\". ¿Qué sucede al decidir la división en el primer nivel del árbol?"
      ]
    },
    {
      "cell_type": "markdown",
      "metadata": {
        "id": "WhXuqCWON7CK"
      },
      "source": [
        "## Referencias\n",
        "\n",
        "Scikit-learn:\n",
        "\n",
        "- [accuracy_score](https://scikit-learn.org/stable/modules/generated/sklearn.metrics.accuracy_score.html)\n",
        "- [User Guide: Decision Trees](https://scikit-learn.org/stable/modules/tree.html)\n",
        "- [DecisionTreeClassifier](https://scikit-learn.org/stable/modules/generated/sklearn.tree.DecisionTreeClassifier.html)\n"
      ]
    }
  ],
  "metadata": {
    "kernelspec": {
      "display_name": "Python 3 (ipykernel)",
      "language": "python",
      "name": "python3"
    },
    "language_info": {
      "codemirror_mode": {
        "name": "ipython",
        "version": 3
      },
      "file_extension": ".py",
      "mimetype": "text/x-python",
      "name": "python",
      "nbconvert_exporter": "python",
      "pygments_lexer": "ipython3",
      "version": "3.9.12"
    },
    "colab": {
      "name": "Copia de Copia de 05 Arboles de Decision.ipynb",
      "provenance": [],
      "include_colab_link": true
    }
  },
  "nbformat": 4,
  "nbformat_minor": 0
}